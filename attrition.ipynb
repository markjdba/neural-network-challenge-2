{
  "cells": [
    {
      "cell_type": "markdown",
      "metadata": {
        "id": "alIIEHibGc3M"
      },
      "source": [
        "## Part 1: Preprocessing"
      ]
    },
    {
      "cell_type": "code",
      "execution_count": 47,
      "metadata": {
        "colab": {
          "base_uri": "https://localhost:8080/",
          "height": 325
        },
        "id": "6eDUJ4NtGc3P",
        "outputId": "224fb1b7-39f8-4bad-bdc0-4743f0b5bfb1"
      },
      "outputs": [
        {
          "data": {
            "text/html": [
              "<div>\n",
              "<style scoped>\n",
              "    .dataframe tbody tr th:only-of-type {\n",
              "        vertical-align: middle;\n",
              "    }\n",
              "\n",
              "    .dataframe tbody tr th {\n",
              "        vertical-align: top;\n",
              "    }\n",
              "\n",
              "    .dataframe thead th {\n",
              "        text-align: right;\n",
              "    }\n",
              "</style>\n",
              "<table border=\"1\" class=\"dataframe\">\n",
              "  <thead>\n",
              "    <tr style=\"text-align: right;\">\n",
              "      <th></th>\n",
              "      <th>Age</th>\n",
              "      <th>Attrition</th>\n",
              "      <th>BusinessTravel</th>\n",
              "      <th>Department</th>\n",
              "      <th>DistanceFromHome</th>\n",
              "      <th>Education</th>\n",
              "      <th>EducationField</th>\n",
              "      <th>EnvironmentSatisfaction</th>\n",
              "      <th>HourlyRate</th>\n",
              "      <th>JobInvolvement</th>\n",
              "      <th>...</th>\n",
              "      <th>PerformanceRating</th>\n",
              "      <th>RelationshipSatisfaction</th>\n",
              "      <th>StockOptionLevel</th>\n",
              "      <th>TotalWorkingYears</th>\n",
              "      <th>TrainingTimesLastYear</th>\n",
              "      <th>WorkLifeBalance</th>\n",
              "      <th>YearsAtCompany</th>\n",
              "      <th>YearsInCurrentRole</th>\n",
              "      <th>YearsSinceLastPromotion</th>\n",
              "      <th>YearsWithCurrManager</th>\n",
              "    </tr>\n",
              "  </thead>\n",
              "  <tbody>\n",
              "    <tr>\n",
              "      <th>0</th>\n",
              "      <td>41</td>\n",
              "      <td>Yes</td>\n",
              "      <td>Travel_Rarely</td>\n",
              "      <td>Sales</td>\n",
              "      <td>1</td>\n",
              "      <td>2</td>\n",
              "      <td>Life Sciences</td>\n",
              "      <td>2</td>\n",
              "      <td>94</td>\n",
              "      <td>3</td>\n",
              "      <td>...</td>\n",
              "      <td>3</td>\n",
              "      <td>1</td>\n",
              "      <td>0</td>\n",
              "      <td>8</td>\n",
              "      <td>0</td>\n",
              "      <td>1</td>\n",
              "      <td>6</td>\n",
              "      <td>4</td>\n",
              "      <td>0</td>\n",
              "      <td>5</td>\n",
              "    </tr>\n",
              "    <tr>\n",
              "      <th>1</th>\n",
              "      <td>49</td>\n",
              "      <td>No</td>\n",
              "      <td>Travel_Frequently</td>\n",
              "      <td>Research &amp; Development</td>\n",
              "      <td>8</td>\n",
              "      <td>1</td>\n",
              "      <td>Life Sciences</td>\n",
              "      <td>3</td>\n",
              "      <td>61</td>\n",
              "      <td>2</td>\n",
              "      <td>...</td>\n",
              "      <td>4</td>\n",
              "      <td>4</td>\n",
              "      <td>1</td>\n",
              "      <td>10</td>\n",
              "      <td>3</td>\n",
              "      <td>3</td>\n",
              "      <td>10</td>\n",
              "      <td>7</td>\n",
              "      <td>1</td>\n",
              "      <td>7</td>\n",
              "    </tr>\n",
              "    <tr>\n",
              "      <th>2</th>\n",
              "      <td>37</td>\n",
              "      <td>Yes</td>\n",
              "      <td>Travel_Rarely</td>\n",
              "      <td>Research &amp; Development</td>\n",
              "      <td>2</td>\n",
              "      <td>2</td>\n",
              "      <td>Other</td>\n",
              "      <td>4</td>\n",
              "      <td>92</td>\n",
              "      <td>2</td>\n",
              "      <td>...</td>\n",
              "      <td>3</td>\n",
              "      <td>2</td>\n",
              "      <td>0</td>\n",
              "      <td>7</td>\n",
              "      <td>3</td>\n",
              "      <td>3</td>\n",
              "      <td>0</td>\n",
              "      <td>0</td>\n",
              "      <td>0</td>\n",
              "      <td>0</td>\n",
              "    </tr>\n",
              "    <tr>\n",
              "      <th>3</th>\n",
              "      <td>33</td>\n",
              "      <td>No</td>\n",
              "      <td>Travel_Frequently</td>\n",
              "      <td>Research &amp; Development</td>\n",
              "      <td>3</td>\n",
              "      <td>4</td>\n",
              "      <td>Life Sciences</td>\n",
              "      <td>4</td>\n",
              "      <td>56</td>\n",
              "      <td>3</td>\n",
              "      <td>...</td>\n",
              "      <td>3</td>\n",
              "      <td>3</td>\n",
              "      <td>0</td>\n",
              "      <td>8</td>\n",
              "      <td>3</td>\n",
              "      <td>3</td>\n",
              "      <td>8</td>\n",
              "      <td>7</td>\n",
              "      <td>3</td>\n",
              "      <td>0</td>\n",
              "    </tr>\n",
              "    <tr>\n",
              "      <th>4</th>\n",
              "      <td>27</td>\n",
              "      <td>No</td>\n",
              "      <td>Travel_Rarely</td>\n",
              "      <td>Research &amp; Development</td>\n",
              "      <td>2</td>\n",
              "      <td>1</td>\n",
              "      <td>Medical</td>\n",
              "      <td>1</td>\n",
              "      <td>40</td>\n",
              "      <td>3</td>\n",
              "      <td>...</td>\n",
              "      <td>3</td>\n",
              "      <td>4</td>\n",
              "      <td>1</td>\n",
              "      <td>6</td>\n",
              "      <td>3</td>\n",
              "      <td>3</td>\n",
              "      <td>2</td>\n",
              "      <td>2</td>\n",
              "      <td>2</td>\n",
              "      <td>2</td>\n",
              "    </tr>\n",
              "  </tbody>\n",
              "</table>\n",
              "<p>5 rows × 27 columns</p>\n",
              "</div>"
            ],
            "text/plain": [
              "   Age Attrition     BusinessTravel              Department  DistanceFromHome  \\\n",
              "0   41       Yes      Travel_Rarely                   Sales                 1   \n",
              "1   49        No  Travel_Frequently  Research & Development                 8   \n",
              "2   37       Yes      Travel_Rarely  Research & Development                 2   \n",
              "3   33        No  Travel_Frequently  Research & Development                 3   \n",
              "4   27        No      Travel_Rarely  Research & Development                 2   \n",
              "\n",
              "   Education EducationField  EnvironmentSatisfaction  HourlyRate  \\\n",
              "0          2  Life Sciences                        2          94   \n",
              "1          1  Life Sciences                        3          61   \n",
              "2          2          Other                        4          92   \n",
              "3          4  Life Sciences                        4          56   \n",
              "4          1        Medical                        1          40   \n",
              "\n",
              "   JobInvolvement  ...  PerformanceRating RelationshipSatisfaction  \\\n",
              "0               3  ...                  3                        1   \n",
              "1               2  ...                  4                        4   \n",
              "2               2  ...                  3                        2   \n",
              "3               3  ...                  3                        3   \n",
              "4               3  ...                  3                        4   \n",
              "\n",
              "   StockOptionLevel TotalWorkingYears  TrainingTimesLastYear WorkLifeBalance  \\\n",
              "0                 0                 8                      0               1   \n",
              "1                 1                10                      3               3   \n",
              "2                 0                 7                      3               3   \n",
              "3                 0                 8                      3               3   \n",
              "4                 1                 6                      3               3   \n",
              "\n",
              "   YearsAtCompany  YearsInCurrentRole  YearsSinceLastPromotion  \\\n",
              "0               6                   4                        0   \n",
              "1              10                   7                        1   \n",
              "2               0                   0                        0   \n",
              "3               8                   7                        3   \n",
              "4               2                   2                        2   \n",
              "\n",
              "   YearsWithCurrManager  \n",
              "0                     5  \n",
              "1                     7  \n",
              "2                     0  \n",
              "3                     0  \n",
              "4                     2  \n",
              "\n",
              "[5 rows x 27 columns]"
            ]
          },
          "execution_count": 47,
          "metadata": {},
          "output_type": "execute_result"
        }
      ],
      "source": [
        "# Import our dependencies\n",
        "from sklearn.model_selection import train_test_split\n",
        "from sklearn.preprocessing import StandardScaler, OneHotEncoder\n",
        "import pandas as pd\n",
        "import numpy as np\n",
        "from tensorflow.keras.models import Model\n",
        "from tensorflow.keras import layers\n",
        "\n",
        "#  Import and read the attrition data\n",
        "attrition_df = pd.read_csv('https://static.bc-edx.com/ai/ail-v-1-0/m19/lms/datasets/attrition.csv')\n",
        "attrition_df.head()"
      ]
    },
    {
      "cell_type": "code",
      "execution_count": 48,
      "metadata": {
        "colab": {
          "base_uri": "https://localhost:8080/",
          "height": 931
        },
        "id": "g22aQSY4Gc3Q",
        "outputId": "b167bd3e-df0a-4043-ecb2-02f8d239f3a0"
      },
      "outputs": [
        {
          "data": {
            "text/plain": [
              "Age                         43\n",
              "Attrition                    2\n",
              "BusinessTravel               3\n",
              "Department                   3\n",
              "DistanceFromHome            29\n",
              "Education                    5\n",
              "EducationField               6\n",
              "EnvironmentSatisfaction      4\n",
              "HourlyRate                  71\n",
              "JobInvolvement               4\n",
              "JobLevel                     5\n",
              "JobRole                      9\n",
              "JobSatisfaction              4\n",
              "MaritalStatus                3\n",
              "NumCompaniesWorked          10\n",
              "OverTime                     2\n",
              "PercentSalaryHike           15\n",
              "PerformanceRating            2\n",
              "RelationshipSatisfaction     4\n",
              "StockOptionLevel             4\n",
              "TotalWorkingYears           40\n",
              "TrainingTimesLastYear        7\n",
              "WorkLifeBalance              4\n",
              "YearsAtCompany              37\n",
              "YearsInCurrentRole          19\n",
              "YearsSinceLastPromotion     16\n",
              "YearsWithCurrManager        18\n",
              "dtype: int64"
            ]
          },
          "execution_count": 48,
          "metadata": {},
          "output_type": "execute_result"
        }
      ],
      "source": [
        "# Determine the number of unique values in each column.\n",
        "attrition_df.nunique()"
      ]
    },
    {
      "cell_type": "code",
      "execution_count": 49,
      "metadata": {
        "id": "50vMgBEnJbfM"
      },
      "outputs": [],
      "source": [
        "# Create y_df with the Attrition and Department columns\n",
        "y_attrition = attrition_df[['Attrition']]\n",
        "y_department = attrition_df[['Department']]\n",
        "\n",
        "\n",
        "\n",
        "\n",
        "\n",
        "\n",
        "\n"
      ]
    },
    {
      "cell_type": "code",
      "execution_count": 50,
      "metadata": {
        "colab": {
          "base_uri": "https://localhost:8080/",
          "height": 398
        },
        "id": "Virka0zLGc3R",
        "outputId": "34ff416b-e9c6-4545-8f92-8dbcf5fcc170"
      },
      "outputs": [
        {
          "data": {
            "text/plain": [
              "Education                   int64\n",
              "Age                         int64\n",
              "DistanceFromHome            int64\n",
              "JobSatisfaction             int64\n",
              "OverTime                   object\n",
              "StockOptionLevel            int64\n",
              "WorkLifeBalance             int64\n",
              "YearsAtCompany              int64\n",
              "YearsSinceLastPromotion     int64\n",
              "NumCompaniesWorked          int64\n",
              "dtype: object"
            ]
          },
          "execution_count": 50,
          "metadata": {},
          "output_type": "execute_result"
        }
      ],
      "source": [
        "# Create a list of at least 10 column names to use as X data\n",
        "X_data_list = [\"Education\",\n",
        "              \"Age\",\n",
        "              \"DistanceFromHome\",\n",
        "              \"JobSatisfaction\",\n",
        "              \"OverTime\",\n",
        "              \"StockOptionLevel\",\n",
        "              \"WorkLifeBalance\",\n",
        "              \"YearsAtCompany\",\n",
        "              \"YearsSinceLastPromotion\",\n",
        "              \"NumCompaniesWorked\"\n",
        "              ]\n",
        "\n",
        "# Create X_df using your selected columns\n",
        "\n",
        "X = attrition_df[X_data_list]\n",
        "\n",
        "# Display the first few rows of X_df\n",
        "X.head\n",
        "\n",
        "# Show the data types for X_df\n",
        "X.dtypes\n",
        "\n"
      ]
    },
    {
      "cell_type": "code",
      "execution_count": 51,
      "metadata": {
        "id": "KaJfdOGUMHMR"
      },
      "outputs": [],
      "source": [
        "# Split the data into training and testing sets\n",
        "from sklearn.model_selection import train_test_split\n",
        "X_train, X_test, y_attrition_train, y_attrition_test, y_department_train, y_department_test  = train_test_split(X, y_attrition, y_department, random_state=1)\n",
        "\n",
        "\n",
        "\n"
      ]
    },
    {
      "cell_type": "code",
      "execution_count": 52,
      "metadata": {
        "id": "NYubUJqiLCSp"
      },
      "outputs": [],
      "source": [
        "# Convert your X data to numeric data types however you see fit\n",
        "# Add new code cells as necessary\n",
        "X_train['OverTime'] = X_train['OverTime'].map({'Yes': 1, 'No': 0}).astype('int64')\n",
        "X_test['OverTime'] = X_test['OverTime'].map({'Yes': 1, 'No': 0}).astype('int64')\n",
        "\n",
        "\n",
        "\n",
        "\n",
        "\n",
        "\n",
        "\n",
        "\n",
        "\n",
        "\n",
        "\n",
        "\n",
        "\n",
        "\n",
        "\n"
      ]
    },
    {
      "cell_type": "code",
      "execution_count": 53,
      "metadata": {
        "colab": {
          "base_uri": "https://localhost:8080/",
          "height": 398
        },
        "id": "TY4mC82KV530",
        "outputId": "f89f3d19-417a-4f8b-abf4-3b9533ca5a5f"
      },
      "outputs": [
        {
          "data": {
            "text/plain": [
              "Education                  int64\n",
              "Age                        int64\n",
              "DistanceFromHome           int64\n",
              "JobSatisfaction            int64\n",
              "OverTime                   int64\n",
              "StockOptionLevel           int64\n",
              "WorkLifeBalance            int64\n",
              "YearsAtCompany             int64\n",
              "YearsSinceLastPromotion    int64\n",
              "NumCompaniesWorked         int64\n",
              "dtype: object"
            ]
          },
          "execution_count": 53,
          "metadata": {},
          "output_type": "execute_result"
        }
      ],
      "source": [
        "X_train.dtypes"
      ]
    },
    {
      "cell_type": "code",
      "execution_count": 54,
      "metadata": {
        "id": "EWA-aIA5Gc3T"
      },
      "outputs": [],
      "source": [
        "# Create a StandardScaler\n",
        "scaler = StandardScaler()\n",
        "\n",
        "# Fit the StandardScaler to the training data\n",
        "scaler = StandardScaler().fit(X_train)\n",
        "\n",
        "# Scale the training and testing data\n",
        "X_train_scaled = scaler.transform(X_train)\n",
        "X_test_scaled = scaler.transform(X_test)\n"
      ]
    },
    {
      "cell_type": "code",
      "execution_count": 55,
      "metadata": {
        "id": "-z0Mky8vQSz4"
      },
      "outputs": [],
      "source": [
        "# Create a OneHotEncoder for the Department column\n",
        "enc = OneHotEncoder(sparse_output=False)\n",
        "\n",
        "# Fit the encoder to the training data\n",
        "enc.fit(y_department_train)\n",
        "\n",
        "# Create two new variables by applying the encoder\n",
        "# to the training and testing data\n",
        "y_department_train_enc = enc.transform(y_department_train)\n",
        "y_department_test_enc = enc.transform(y_department_test)\n"
      ]
    },
    {
      "cell_type": "code",
      "execution_count": 56,
      "metadata": {},
      "outputs": [
        {
          "data": {
            "text/plain": [
              "array([[0., 1., 0.],\n",
              "       [0., 1., 0.],\n",
              "       [0., 0., 1.],\n",
              "       ...,\n",
              "       [1., 0., 0.],\n",
              "       [0., 0., 1.],\n",
              "       [0., 0., 1.]])"
            ]
          },
          "execution_count": 56,
          "metadata": {},
          "output_type": "execute_result"
        }
      ],
      "source": [
        "y_department_train_enc"
      ]
    },
    {
      "cell_type": "code",
      "execution_count": 57,
      "metadata": {
        "id": "-G4DSpvFRrk4"
      },
      "outputs": [],
      "source": [
        "# Create a OneHotEncoder for the Attrition column\n",
        "enc = OneHotEncoder(sparse_output=False)\n",
        "\n",
        "# Fit the encoder to the training data\n",
        "enc.fit(y_attrition_train)\n",
        "\n",
        "# Create two new variables by applying the encoder\n",
        "# to the training and testing data\n",
        "y_attrition_train_enc = enc.transform(y_attrition_train)\n",
        "y_attrition_test_enc = enc.transform(y_attrition_test)\n"
      ]
    },
    {
      "cell_type": "code",
      "execution_count": 58,
      "metadata": {},
      "outputs": [
        {
          "data": {
            "text/plain": [
              "array([[1., 0.],\n",
              "       [1., 0.],\n",
              "       [0., 1.],\n",
              "       ...,\n",
              "       [1., 0.],\n",
              "       [1., 0.],\n",
              "       [1., 0.]])"
            ]
          },
          "execution_count": 58,
          "metadata": {},
          "output_type": "execute_result"
        }
      ],
      "source": [
        "y_attrition_train_enc"
      ]
    },
    {
      "cell_type": "markdown",
      "metadata": {
        "id": "ykNmu_WWGc3T"
      },
      "source": [
        "## Create, Compile, and Train the Model"
      ]
    },
    {
      "cell_type": "code",
      "execution_count": 59,
      "metadata": {
        "colab": {
          "base_uri": "https://localhost:8080/"
        },
        "id": "HntOMADIyQgI",
        "outputId": "cf0d7bec-2da3-4df8-fd50-2ec781b8ccff"
      },
      "outputs": [
        {
          "data": {
            "text/plain": [
              "10"
            ]
          },
          "execution_count": 59,
          "metadata": {},
          "output_type": "execute_result"
        }
      ],
      "source": [
        "# Find the number of columns in the X training data\n",
        "len(X_train.columns)\n"
      ]
    },
    {
      "cell_type": "code",
      "execution_count": 60,
      "metadata": {
        "id": "pX8juHf3dHYP"
      },
      "outputs": [],
      "source": [
        "# Create the input layer\n",
        "input_layer = layers.Input(shape=(X.shape[1],), name='input_features')\n",
        "\n",
        "# Create at least two shared layers\n",
        "shared_layer1 = layers.Dense(64, activation='relu')(input_layer)\n",
        "shared_layer2 = layers.Dense(128, activation='relu')(shared_layer1)"
      ]
    },
    {
      "cell_type": "code",
      "execution_count": 61,
      "metadata": {
        "id": "JukjTm2yTEqd"
      },
      "outputs": [],
      "source": [
        "# Create a branch for Department\n",
        "# with a hidden layer and an output layer\n",
        "\n",
        "# Create the hidden layer\n",
        "department_hidden = layers.Dense(32, activation='relu')(shared_layer2)\n",
        "\n",
        "# Create the output layer\n",
        "department_output = layers.Dense(3, activation='softmax', name='department_output')(department_hidden)\n",
        "\n"
      ]
    },
    {
      "cell_type": "code",
      "execution_count": 62,
      "metadata": {
        "id": "9OqhUiOJUBkR"
      },
      "outputs": [],
      "source": [
        "# Create a branch for Attrition\n",
        "# with a hidden layer and an output layer\n",
        "\n",
        "# Create the hidden layer\n",
        "attrition_hidden = layers.Dense(32, activation='relu')(shared_layer2)\n",
        "\n",
        "# Create the output layer\n",
        "attrition_output = layers.Dense(2, activation='sigmoid', name='attrition_output')(attrition_hidden)\n"
      ]
    },
    {
      "cell_type": "code",
      "execution_count": 63,
      "metadata": {
        "colab": {
          "base_uri": "https://localhost:8080/",
          "height": 369
        },
        "id": "twmuejdxGc3T",
        "outputId": "32f1d4d5-4108-4ec5-a61b-fefdbc511924"
      },
      "outputs": [
        {
          "data": {
            "text/html": [
              "<pre style=\"white-space:pre;overflow-x:auto;line-height:normal;font-family:Menlo,'DejaVu Sans Mono',consolas,'Courier New',monospace\"><span style=\"font-weight: bold\">Model: \"functional_2\"</span>\n",
              "</pre>\n"
            ],
            "text/plain": [
              "\u001b[1mModel: \"functional_2\"\u001b[0m\n"
            ]
          },
          "metadata": {},
          "output_type": "display_data"
        },
        {
          "data": {
            "text/html": [
              "<pre style=\"white-space:pre;overflow-x:auto;line-height:normal;font-family:Menlo,'DejaVu Sans Mono',consolas,'Courier New',monospace\">┏━━━━━━━━━━━━━━━━━━━━━┳━━━━━━━━━━━━━━━━━━━┳━━━━━━━━━━━━┳━━━━━━━━━━━━━━━━━━━┓\n",
              "┃<span style=\"font-weight: bold\"> Layer (type)        </span>┃<span style=\"font-weight: bold\"> Output Shape      </span>┃<span style=\"font-weight: bold\">    Param # </span>┃<span style=\"font-weight: bold\"> Connected to      </span>┃\n",
              "┡━━━━━━━━━━━━━━━━━━━━━╇━━━━━━━━━━━━━━━━━━━╇━━━━━━━━━━━━╇━━━━━━━━━━━━━━━━━━━┩\n",
              "│ input_features      │ (<span style=\"color: #00d7ff; text-decoration-color: #00d7ff\">None</span>, <span style=\"color: #00af00; text-decoration-color: #00af00\">10</span>)        │          <span style=\"color: #00af00; text-decoration-color: #00af00\">0</span> │ -                 │\n",
              "│ (<span style=\"color: #0087ff; text-decoration-color: #0087ff\">InputLayer</span>)        │                   │            │                   │\n",
              "├─────────────────────┼───────────────────┼────────────┼───────────────────┤\n",
              "│ dense_8 (<span style=\"color: #0087ff; text-decoration-color: #0087ff\">Dense</span>)     │ (<span style=\"color: #00d7ff; text-decoration-color: #00d7ff\">None</span>, <span style=\"color: #00af00; text-decoration-color: #00af00\">64</span>)        │        <span style=\"color: #00af00; text-decoration-color: #00af00\">704</span> │ input_features[<span style=\"color: #00af00; text-decoration-color: #00af00\">0</span>… │\n",
              "├─────────────────────┼───────────────────┼────────────┼───────────────────┤\n",
              "│ dense_9 (<span style=\"color: #0087ff; text-decoration-color: #0087ff\">Dense</span>)     │ (<span style=\"color: #00d7ff; text-decoration-color: #00d7ff\">None</span>, <span style=\"color: #00af00; text-decoration-color: #00af00\">128</span>)       │      <span style=\"color: #00af00; text-decoration-color: #00af00\">8,320</span> │ dense_8[<span style=\"color: #00af00; text-decoration-color: #00af00\">0</span>][<span style=\"color: #00af00; text-decoration-color: #00af00\">0</span>]     │\n",
              "├─────────────────────┼───────────────────┼────────────┼───────────────────┤\n",
              "│ dense_10 (<span style=\"color: #0087ff; text-decoration-color: #0087ff\">Dense</span>)    │ (<span style=\"color: #00d7ff; text-decoration-color: #00d7ff\">None</span>, <span style=\"color: #00af00; text-decoration-color: #00af00\">32</span>)        │      <span style=\"color: #00af00; text-decoration-color: #00af00\">4,128</span> │ dense_9[<span style=\"color: #00af00; text-decoration-color: #00af00\">0</span>][<span style=\"color: #00af00; text-decoration-color: #00af00\">0</span>]     │\n",
              "├─────────────────────┼───────────────────┼────────────┼───────────────────┤\n",
              "│ dense_11 (<span style=\"color: #0087ff; text-decoration-color: #0087ff\">Dense</span>)    │ (<span style=\"color: #00d7ff; text-decoration-color: #00d7ff\">None</span>, <span style=\"color: #00af00; text-decoration-color: #00af00\">32</span>)        │      <span style=\"color: #00af00; text-decoration-color: #00af00\">4,128</span> │ dense_9[<span style=\"color: #00af00; text-decoration-color: #00af00\">0</span>][<span style=\"color: #00af00; text-decoration-color: #00af00\">0</span>]     │\n",
              "├─────────────────────┼───────────────────┼────────────┼───────────────────┤\n",
              "│ department_output   │ (<span style=\"color: #00d7ff; text-decoration-color: #00d7ff\">None</span>, <span style=\"color: #00af00; text-decoration-color: #00af00\">3</span>)         │         <span style=\"color: #00af00; text-decoration-color: #00af00\">99</span> │ dense_10[<span style=\"color: #00af00; text-decoration-color: #00af00\">0</span>][<span style=\"color: #00af00; text-decoration-color: #00af00\">0</span>]    │\n",
              "│ (<span style=\"color: #0087ff; text-decoration-color: #0087ff\">Dense</span>)             │                   │            │                   │\n",
              "├─────────────────────┼───────────────────┼────────────┼───────────────────┤\n",
              "│ attrition_output    │ (<span style=\"color: #00d7ff; text-decoration-color: #00d7ff\">None</span>, <span style=\"color: #00af00; text-decoration-color: #00af00\">2</span>)         │         <span style=\"color: #00af00; text-decoration-color: #00af00\">66</span> │ dense_11[<span style=\"color: #00af00; text-decoration-color: #00af00\">0</span>][<span style=\"color: #00af00; text-decoration-color: #00af00\">0</span>]    │\n",
              "│ (<span style=\"color: #0087ff; text-decoration-color: #0087ff\">Dense</span>)             │                   │            │                   │\n",
              "└─────────────────────┴───────────────────┴────────────┴───────────────────┘\n",
              "</pre>\n"
            ],
            "text/plain": [
              "┏━━━━━━━━━━━━━━━━━━━━━┳━━━━━━━━━━━━━━━━━━━┳━━━━━━━━━━━━┳━━━━━━━━━━━━━━━━━━━┓\n",
              "┃\u001b[1m \u001b[0m\u001b[1mLayer (type)       \u001b[0m\u001b[1m \u001b[0m┃\u001b[1m \u001b[0m\u001b[1mOutput Shape     \u001b[0m\u001b[1m \u001b[0m┃\u001b[1m \u001b[0m\u001b[1m   Param #\u001b[0m\u001b[1m \u001b[0m┃\u001b[1m \u001b[0m\u001b[1mConnected to     \u001b[0m\u001b[1m \u001b[0m┃\n",
              "┡━━━━━━━━━━━━━━━━━━━━━╇━━━━━━━━━━━━━━━━━━━╇━━━━━━━━━━━━╇━━━━━━━━━━━━━━━━━━━┩\n",
              "│ input_features      │ (\u001b[38;5;45mNone\u001b[0m, \u001b[38;5;34m10\u001b[0m)        │          \u001b[38;5;34m0\u001b[0m │ -                 │\n",
              "│ (\u001b[38;5;33mInputLayer\u001b[0m)        │                   │            │                   │\n",
              "├─────────────────────┼───────────────────┼────────────┼───────────────────┤\n",
              "│ dense_8 (\u001b[38;5;33mDense\u001b[0m)     │ (\u001b[38;5;45mNone\u001b[0m, \u001b[38;5;34m64\u001b[0m)        │        \u001b[38;5;34m704\u001b[0m │ input_features[\u001b[38;5;34m0\u001b[0m… │\n",
              "├─────────────────────┼───────────────────┼────────────┼───────────────────┤\n",
              "│ dense_9 (\u001b[38;5;33mDense\u001b[0m)     │ (\u001b[38;5;45mNone\u001b[0m, \u001b[38;5;34m128\u001b[0m)       │      \u001b[38;5;34m8,320\u001b[0m │ dense_8[\u001b[38;5;34m0\u001b[0m][\u001b[38;5;34m0\u001b[0m]     │\n",
              "├─────────────────────┼───────────────────┼────────────┼───────────────────┤\n",
              "│ dense_10 (\u001b[38;5;33mDense\u001b[0m)    │ (\u001b[38;5;45mNone\u001b[0m, \u001b[38;5;34m32\u001b[0m)        │      \u001b[38;5;34m4,128\u001b[0m │ dense_9[\u001b[38;5;34m0\u001b[0m][\u001b[38;5;34m0\u001b[0m]     │\n",
              "├─────────────────────┼───────────────────┼────────────┼───────────────────┤\n",
              "│ dense_11 (\u001b[38;5;33mDense\u001b[0m)    │ (\u001b[38;5;45mNone\u001b[0m, \u001b[38;5;34m32\u001b[0m)        │      \u001b[38;5;34m4,128\u001b[0m │ dense_9[\u001b[38;5;34m0\u001b[0m][\u001b[38;5;34m0\u001b[0m]     │\n",
              "├─────────────────────┼───────────────────┼────────────┼───────────────────┤\n",
              "│ department_output   │ (\u001b[38;5;45mNone\u001b[0m, \u001b[38;5;34m3\u001b[0m)         │         \u001b[38;5;34m99\u001b[0m │ dense_10[\u001b[38;5;34m0\u001b[0m][\u001b[38;5;34m0\u001b[0m]    │\n",
              "│ (\u001b[38;5;33mDense\u001b[0m)             │                   │            │                   │\n",
              "├─────────────────────┼───────────────────┼────────────┼───────────────────┤\n",
              "│ attrition_output    │ (\u001b[38;5;45mNone\u001b[0m, \u001b[38;5;34m2\u001b[0m)         │         \u001b[38;5;34m66\u001b[0m │ dense_11[\u001b[38;5;34m0\u001b[0m][\u001b[38;5;34m0\u001b[0m]    │\n",
              "│ (\u001b[38;5;33mDense\u001b[0m)             │                   │            │                   │\n",
              "└─────────────────────┴───────────────────┴────────────┴───────────────────┘\n"
            ]
          },
          "metadata": {},
          "output_type": "display_data"
        },
        {
          "data": {
            "text/html": [
              "<pre style=\"white-space:pre;overflow-x:auto;line-height:normal;font-family:Menlo,'DejaVu Sans Mono',consolas,'Courier New',monospace\"><span style=\"font-weight: bold\"> Total params: </span><span style=\"color: #00af00; text-decoration-color: #00af00\">17,445</span> (68.14 KB)\n",
              "</pre>\n"
            ],
            "text/plain": [
              "\u001b[1m Total params: \u001b[0m\u001b[38;5;34m17,445\u001b[0m (68.14 KB)\n"
            ]
          },
          "metadata": {},
          "output_type": "display_data"
        },
        {
          "data": {
            "text/html": [
              "<pre style=\"white-space:pre;overflow-x:auto;line-height:normal;font-family:Menlo,'DejaVu Sans Mono',consolas,'Courier New',monospace\"><span style=\"font-weight: bold\"> Trainable params: </span><span style=\"color: #00af00; text-decoration-color: #00af00\">17,445</span> (68.14 KB)\n",
              "</pre>\n"
            ],
            "text/plain": [
              "\u001b[1m Trainable params: \u001b[0m\u001b[38;5;34m17,445\u001b[0m (68.14 KB)\n"
            ]
          },
          "metadata": {},
          "output_type": "display_data"
        },
        {
          "data": {
            "text/html": [
              "<pre style=\"white-space:pre;overflow-x:auto;line-height:normal;font-family:Menlo,'DejaVu Sans Mono',consolas,'Courier New',monospace\"><span style=\"font-weight: bold\"> Non-trainable params: </span><span style=\"color: #00af00; text-decoration-color: #00af00\">0</span> (0.00 B)\n",
              "</pre>\n"
            ],
            "text/plain": [
              "\u001b[1m Non-trainable params: \u001b[0m\u001b[38;5;34m0\u001b[0m (0.00 B)\n"
            ]
          },
          "metadata": {},
          "output_type": "display_data"
        }
      ],
      "source": [
        "# Create the model\n",
        "model = Model(inputs=input_layer, outputs=[department_output, attrition_output])\n",
        "\n",
        "# Compile the model\n",
        "model.compile(optimizer='adam',\n",
        "              loss={'department_output': 'categorical_crossentropy',\n",
        "                    'attrition_output': 'binary_crossentropy'},\n",
        "              metrics={'department_output': 'accuracy',\n",
        "                       'attrition_output': 'accuracy'})\n",
        "\n",
        "# Summarize the model\n",
        "model.summary()\n"
      ]
    },
    {
      "cell_type": "code",
      "execution_count": 64,
      "metadata": {
        "colab": {
          "base_uri": "https://localhost:8080/"
        },
        "id": "VUlvRLvxbS9O",
        "outputId": "f54ff679-7848-4855-c9ea-8c3333d6461e"
      },
      "outputs": [
        {
          "data": {
            "text/plain": [
              "(1102, 1)"
            ]
          },
          "execution_count": 64,
          "metadata": {},
          "output_type": "execute_result"
        }
      ],
      "source": [
        "y_attrition_train.shape"
      ]
    },
    {
      "cell_type": "code",
      "execution_count": 65,
      "metadata": {},
      "outputs": [
        {
          "data": {
            "text/html": [
              "<div>\n",
              "<style scoped>\n",
              "    .dataframe tbody tr th:only-of-type {\n",
              "        vertical-align: middle;\n",
              "    }\n",
              "\n",
              "    .dataframe tbody tr th {\n",
              "        vertical-align: top;\n",
              "    }\n",
              "\n",
              "    .dataframe thead th {\n",
              "        text-align: right;\n",
              "    }\n",
              "</style>\n",
              "<table border=\"1\" class=\"dataframe\">\n",
              "  <thead>\n",
              "    <tr style=\"text-align: right;\">\n",
              "      <th></th>\n",
              "      <th>Attrition</th>\n",
              "    </tr>\n",
              "  </thead>\n",
              "  <tbody>\n",
              "    <tr>\n",
              "      <th>464</th>\n",
              "      <td>No</td>\n",
              "    </tr>\n",
              "    <tr>\n",
              "      <th>512</th>\n",
              "      <td>No</td>\n",
              "    </tr>\n",
              "    <tr>\n",
              "      <th>480</th>\n",
              "      <td>Yes</td>\n",
              "    </tr>\n",
              "    <tr>\n",
              "      <th>680</th>\n",
              "      <td>No</td>\n",
              "    </tr>\n",
              "    <tr>\n",
              "      <th>1023</th>\n",
              "      <td>No</td>\n",
              "    </tr>\n",
              "    <tr>\n",
              "      <th>...</th>\n",
              "      <td>...</td>\n",
              "    </tr>\n",
              "    <tr>\n",
              "      <th>715</th>\n",
              "      <td>No</td>\n",
              "    </tr>\n",
              "    <tr>\n",
              "      <th>905</th>\n",
              "      <td>No</td>\n",
              "    </tr>\n",
              "    <tr>\n",
              "      <th>1096</th>\n",
              "      <td>No</td>\n",
              "    </tr>\n",
              "    <tr>\n",
              "      <th>235</th>\n",
              "      <td>No</td>\n",
              "    </tr>\n",
              "    <tr>\n",
              "      <th>1061</th>\n",
              "      <td>No</td>\n",
              "    </tr>\n",
              "  </tbody>\n",
              "</table>\n",
              "<p>1102 rows × 1 columns</p>\n",
              "</div>"
            ],
            "text/plain": [
              "     Attrition\n",
              "464         No\n",
              "512         No\n",
              "480        Yes\n",
              "680         No\n",
              "1023        No\n",
              "...        ...\n",
              "715         No\n",
              "905         No\n",
              "1096        No\n",
              "235         No\n",
              "1061        No\n",
              "\n",
              "[1102 rows x 1 columns]"
            ]
          },
          "execution_count": 65,
          "metadata": {},
          "output_type": "execute_result"
        }
      ],
      "source": [
        "y_attrition_train"
      ]
    },
    {
      "cell_type": "code",
      "execution_count": 66,
      "metadata": {},
      "outputs": [
        {
          "data": {
            "text/html": [
              "<div>\n",
              "<style scoped>\n",
              "    .dataframe tbody tr th:only-of-type {\n",
              "        vertical-align: middle;\n",
              "    }\n",
              "\n",
              "    .dataframe tbody tr th {\n",
              "        vertical-align: top;\n",
              "    }\n",
              "\n",
              "    .dataframe thead th {\n",
              "        text-align: right;\n",
              "    }\n",
              "</style>\n",
              "<table border=\"1\" class=\"dataframe\">\n",
              "  <thead>\n",
              "    <tr style=\"text-align: right;\">\n",
              "      <th></th>\n",
              "      <th>Department</th>\n",
              "    </tr>\n",
              "  </thead>\n",
              "  <tbody>\n",
              "    <tr>\n",
              "      <th>464</th>\n",
              "      <td>Research &amp; Development</td>\n",
              "    </tr>\n",
              "    <tr>\n",
              "      <th>512</th>\n",
              "      <td>Research &amp; Development</td>\n",
              "    </tr>\n",
              "    <tr>\n",
              "      <th>480</th>\n",
              "      <td>Sales</td>\n",
              "    </tr>\n",
              "    <tr>\n",
              "      <th>680</th>\n",
              "      <td>Research &amp; Development</td>\n",
              "    </tr>\n",
              "    <tr>\n",
              "      <th>1023</th>\n",
              "      <td>Research &amp; Development</td>\n",
              "    </tr>\n",
              "    <tr>\n",
              "      <th>...</th>\n",
              "      <td>...</td>\n",
              "    </tr>\n",
              "    <tr>\n",
              "      <th>715</th>\n",
              "      <td>Research &amp; Development</td>\n",
              "    </tr>\n",
              "    <tr>\n",
              "      <th>905</th>\n",
              "      <td>Research &amp; Development</td>\n",
              "    </tr>\n",
              "    <tr>\n",
              "      <th>1096</th>\n",
              "      <td>Human Resources</td>\n",
              "    </tr>\n",
              "    <tr>\n",
              "      <th>235</th>\n",
              "      <td>Sales</td>\n",
              "    </tr>\n",
              "    <tr>\n",
              "      <th>1061</th>\n",
              "      <td>Sales</td>\n",
              "    </tr>\n",
              "  </tbody>\n",
              "</table>\n",
              "<p>1102 rows × 1 columns</p>\n",
              "</div>"
            ],
            "text/plain": [
              "                  Department\n",
              "464   Research & Development\n",
              "512   Research & Development\n",
              "480                    Sales\n",
              "680   Research & Development\n",
              "1023  Research & Development\n",
              "...                      ...\n",
              "715   Research & Development\n",
              "905   Research & Development\n",
              "1096         Human Resources\n",
              "235                    Sales\n",
              "1061                   Sales\n",
              "\n",
              "[1102 rows x 1 columns]"
            ]
          },
          "execution_count": 66,
          "metadata": {},
          "output_type": "execute_result"
        }
      ],
      "source": [
        "y_department_train"
      ]
    },
    {
      "cell_type": "code",
      "execution_count": 67,
      "metadata": {
        "colab": {
          "base_uri": "https://localhost:8080/"
        },
        "id": "XnjThpyyXGiJ",
        "outputId": "b5ca82d4-c9ed-451a-d3a8-b6d7d3dd2ab9"
      },
      "outputs": [
        {
          "data": {
            "text/plain": [
              "(1102, 1)"
            ]
          },
          "execution_count": 67,
          "metadata": {},
          "output_type": "execute_result"
        }
      ],
      "source": [
        "y_department_train.shape"
      ]
    },
    {
      "cell_type": "code",
      "execution_count": 68,
      "metadata": {
        "colab": {
          "base_uri": "https://localhost:8080/",
          "height": 373
        },
        "id": "c8oGy0dpGc3U",
        "outputId": "905d8815-e185-4eb9-a67e-35407eba0523"
      },
      "outputs": [
        {
          "name": "stdout",
          "output_type": "stream",
          "text": [
            "Epoch 1/100\n",
            "\u001b[1m28/28\u001b[0m \u001b[32m━━━━━━━━━━━━━━━━━━━━\u001b[0m\u001b[37m\u001b[0m \u001b[1m1s\u001b[0m 5ms/step - attrition_output_accuracy: 0.8643 - attrition_output_loss: 0.4546 - department_output_accuracy: 0.6315 - department_output_loss: 0.8952 - loss: 1.3500 - val_attrition_output_accuracy: 0.8281 - val_attrition_output_loss: 0.4706 - val_department_output_accuracy: 0.6109 - val_department_output_loss: 0.8687 - val_loss: 1.3399\n",
            "Epoch 2/100\n",
            "\u001b[1m28/28\u001b[0m \u001b[32m━━━━━━━━━━━━━━━━━━━━\u001b[0m\u001b[37m\u001b[0m \u001b[1m0s\u001b[0m 1ms/step - attrition_output_accuracy: 0.8431 - attrition_output_loss: 0.4144 - department_output_accuracy: 0.6300 - department_output_loss: 0.8436 - loss: 1.2578 - val_attrition_output_accuracy: 0.8281 - val_attrition_output_loss: 0.4681 - val_department_output_accuracy: 0.6109 - val_department_output_loss: 0.8443 - val_loss: 1.3124\n",
            "Epoch 3/100\n",
            "\u001b[1m28/28\u001b[0m \u001b[32m━━━━━━━━━━━━━━━━━━━━\u001b[0m\u001b[37m\u001b[0m \u001b[1m0s\u001b[0m 1ms/step - attrition_output_accuracy: 0.8575 - attrition_output_loss: 0.3744 - department_output_accuracy: 0.6657 - department_output_loss: 0.7814 - loss: 1.1556 - val_attrition_output_accuracy: 0.8281 - val_attrition_output_loss: 0.4553 - val_department_output_accuracy: 0.6380 - val_department_output_loss: 0.8303 - val_loss: 1.2862\n",
            "Epoch 4/100\n",
            "\u001b[1m28/28\u001b[0m \u001b[32m━━━━━━━━━━━━━━━━━━━━\u001b[0m\u001b[37m\u001b[0m \u001b[1m0s\u001b[0m 1ms/step - attrition_output_accuracy: 0.8589 - attrition_output_loss: 0.3741 - department_output_accuracy: 0.6645 - department_output_loss: 0.7991 - loss: 1.1734 - val_attrition_output_accuracy: 0.8281 - val_attrition_output_loss: 0.4460 - val_department_output_accuracy: 0.6425 - val_department_output_loss: 0.8473 - val_loss: 1.2943\n",
            "Epoch 5/100\n",
            "\u001b[1m28/28\u001b[0m \u001b[32m━━━━━━━━━━━━━━━━━━━━\u001b[0m\u001b[37m\u001b[0m \u001b[1m0s\u001b[0m 1ms/step - attrition_output_accuracy: 0.8487 - attrition_output_loss: 0.4006 - department_output_accuracy: 0.6711 - department_output_loss: 0.7479 - loss: 1.1487 - val_attrition_output_accuracy: 0.8281 - val_attrition_output_loss: 0.4564 - val_department_output_accuracy: 0.6335 - val_department_output_loss: 0.8406 - val_loss: 1.2978\n",
            "Epoch 6/100\n",
            "\u001b[1m28/28\u001b[0m \u001b[32m━━━━━━━━━━━━━━━━━━━━\u001b[0m\u001b[37m\u001b[0m \u001b[1m0s\u001b[0m 1ms/step - attrition_output_accuracy: 0.8477 - attrition_output_loss: 0.3948 - department_output_accuracy: 0.6629 - department_output_loss: 0.8002 - loss: 1.1949 - val_attrition_output_accuracy: 0.8416 - val_attrition_output_loss: 0.4525 - val_department_output_accuracy: 0.6425 - val_department_output_loss: 0.8292 - val_loss: 1.2821\n",
            "Epoch 7/100\n",
            "\u001b[1m28/28\u001b[0m \u001b[32m━━━━━━━━━━━━━━━━━━━━\u001b[0m\u001b[37m\u001b[0m \u001b[1m0s\u001b[0m 1ms/step - attrition_output_accuracy: 0.8603 - attrition_output_loss: 0.3753 - department_output_accuracy: 0.6116 - department_output_loss: 0.8528 - loss: 1.2287 - val_attrition_output_accuracy: 0.8281 - val_attrition_output_loss: 0.4561 - val_department_output_accuracy: 0.6335 - val_department_output_loss: 0.8769 - val_loss: 1.3337\n",
            "Epoch 8/100\n",
            "\u001b[1m28/28\u001b[0m \u001b[32m━━━━━━━━━━━━━━━━━━━━\u001b[0m\u001b[37m\u001b[0m \u001b[1m0s\u001b[0m 1ms/step - attrition_output_accuracy: 0.8324 - attrition_output_loss: 0.4171 - department_output_accuracy: 0.6348 - department_output_loss: 0.8618 - loss: 1.2787 - val_attrition_output_accuracy: 0.8281 - val_attrition_output_loss: 0.4664 - val_department_output_accuracy: 0.6380 - val_department_output_loss: 0.8336 - val_loss: 1.3004\n",
            "Epoch 9/100\n",
            "\u001b[1m28/28\u001b[0m \u001b[32m━━━━━━━━━━━━━━━━━━━━\u001b[0m\u001b[37m\u001b[0m \u001b[1m0s\u001b[0m 1ms/step - attrition_output_accuracy: 0.8679 - attrition_output_loss: 0.3452 - department_output_accuracy: 0.6597 - department_output_loss: 0.7888 - loss: 1.1341 - val_attrition_output_accuracy: 0.8462 - val_attrition_output_loss: 0.4402 - val_department_output_accuracy: 0.6380 - val_department_output_loss: 0.8650 - val_loss: 1.3059\n",
            "Epoch 10/100\n",
            "\u001b[1m28/28\u001b[0m \u001b[32m━━━━━━━━━━━━━━━━━━━━\u001b[0m\u001b[37m\u001b[0m \u001b[1m0s\u001b[0m 1ms/step - attrition_output_accuracy: 0.8530 - attrition_output_loss: 0.3703 - department_output_accuracy: 0.6459 - department_output_loss: 0.8011 - loss: 1.1714 - val_attrition_output_accuracy: 0.8281 - val_attrition_output_loss: 0.4793 - val_department_output_accuracy: 0.6335 - val_department_output_loss: 0.8318 - val_loss: 1.3118\n",
            "Epoch 11/100\n",
            "\u001b[1m28/28\u001b[0m \u001b[32m━━━━━━━━━━━━━━━━━━━━\u001b[0m\u001b[37m\u001b[0m \u001b[1m0s\u001b[0m 1ms/step - attrition_output_accuracy: 0.8457 - attrition_output_loss: 0.3805 - department_output_accuracy: 0.6335 - department_output_loss: 0.8242 - loss: 1.2051 - val_attrition_output_accuracy: 0.8281 - val_attrition_output_loss: 0.4953 - val_department_output_accuracy: 0.6380 - val_department_output_loss: 0.8319 - val_loss: 1.3280\n",
            "Epoch 12/100\n",
            "\u001b[1m28/28\u001b[0m \u001b[32m━━━━━━━━━━━━━━━━━━━━\u001b[0m\u001b[37m\u001b[0m \u001b[1m0s\u001b[0m 1ms/step - attrition_output_accuracy: 0.8635 - attrition_output_loss: 0.3597 - department_output_accuracy: 0.6659 - department_output_loss: 0.7644 - loss: 1.1242 - val_attrition_output_accuracy: 0.8416 - val_attrition_output_loss: 0.4522 - val_department_output_accuracy: 0.6290 - val_department_output_loss: 0.8304 - val_loss: 1.2829\n",
            "Epoch 13/100\n",
            "\u001b[1m28/28\u001b[0m \u001b[32m━━━━━━━━━━━━━━━━━━━━\u001b[0m\u001b[37m\u001b[0m \u001b[1m0s\u001b[0m 1ms/step - attrition_output_accuracy: 0.8595 - attrition_output_loss: 0.3657 - department_output_accuracy: 0.6944 - department_output_loss: 0.7516 - loss: 1.1176 - val_attrition_output_accuracy: 0.8281 - val_attrition_output_loss: 0.4482 - val_department_output_accuracy: 0.6199 - val_department_output_loss: 0.8373 - val_loss: 1.2858\n",
            "Epoch 14/100\n",
            "\u001b[1m28/28\u001b[0m \u001b[32m━━━━━━━━━━━━━━━━━━━━\u001b[0m\u001b[37m\u001b[0m \u001b[1m0s\u001b[0m 1ms/step - attrition_output_accuracy: 0.8481 - attrition_output_loss: 0.3624 - department_output_accuracy: 0.6605 - department_output_loss: 0.7670 - loss: 1.1289 - val_attrition_output_accuracy: 0.8326 - val_attrition_output_loss: 0.4400 - val_department_output_accuracy: 0.6335 - val_department_output_loss: 0.8205 - val_loss: 1.2610\n",
            "Epoch 15/100\n",
            "\u001b[1m28/28\u001b[0m \u001b[32m━━━━━━━━━━━━━━━━━━━━\u001b[0m\u001b[37m\u001b[0m \u001b[1m0s\u001b[0m 1ms/step - attrition_output_accuracy: 0.8334 - attrition_output_loss: 0.3616 - department_output_accuracy: 0.6598 - department_output_loss: 0.7917 - loss: 1.1536 - val_attrition_output_accuracy: 0.8416 - val_attrition_output_loss: 0.4286 - val_department_output_accuracy: 0.6335 - val_department_output_loss: 0.8438 - val_loss: 1.2730\n",
            "Epoch 16/100\n",
            "\u001b[1m28/28\u001b[0m \u001b[32m━━━━━━━━━━━━━━━━━━━━\u001b[0m\u001b[37m\u001b[0m \u001b[1m0s\u001b[0m 1ms/step - attrition_output_accuracy: 0.8425 - attrition_output_loss: 0.3828 - department_output_accuracy: 0.6647 - department_output_loss: 0.7850 - loss: 1.1673 - val_attrition_output_accuracy: 0.8507 - val_attrition_output_loss: 0.4450 - val_department_output_accuracy: 0.6335 - val_department_output_loss: 0.8389 - val_loss: 1.2841\n",
            "Epoch 17/100\n",
            "\u001b[1m28/28\u001b[0m \u001b[32m━━━━━━━━━━━━━━━━━━━━\u001b[0m\u001b[37m\u001b[0m \u001b[1m0s\u001b[0m 1ms/step - attrition_output_accuracy: 0.8677 - attrition_output_loss: 0.3230 - department_output_accuracy: 0.6777 - department_output_loss: 0.7530 - loss: 1.0760 - val_attrition_output_accuracy: 0.8326 - val_attrition_output_loss: 0.4359 - val_department_output_accuracy: 0.6335 - val_department_output_loss: 0.8308 - val_loss: 1.2671\n",
            "Epoch 18/100\n",
            "\u001b[1m28/28\u001b[0m \u001b[32m━━━━━━━━━━━━━━━━━━━━\u001b[0m\u001b[37m\u001b[0m \u001b[1m0s\u001b[0m 1ms/step - attrition_output_accuracy: 0.8652 - attrition_output_loss: 0.3521 - department_output_accuracy: 0.6493 - department_output_loss: 0.7831 - loss: 1.1355 - val_attrition_output_accuracy: 0.8552 - val_attrition_output_loss: 0.4435 - val_department_output_accuracy: 0.6244 - val_department_output_loss: 0.8300 - val_loss: 1.2736\n",
            "Epoch 19/100\n",
            "\u001b[1m28/28\u001b[0m \u001b[32m━━━━━━━━━━━━━━━━━━━━\u001b[0m\u001b[37m\u001b[0m \u001b[1m0s\u001b[0m 1ms/step - attrition_output_accuracy: 0.8716 - attrition_output_loss: 0.3078 - department_output_accuracy: 0.6567 - department_output_loss: 0.7666 - loss: 1.0743 - val_attrition_output_accuracy: 0.8507 - val_attrition_output_loss: 0.4286 - val_department_output_accuracy: 0.6380 - val_department_output_loss: 0.8332 - val_loss: 1.2623\n",
            "Epoch 20/100\n",
            "\u001b[1m28/28\u001b[0m \u001b[32m━━━━━━━━━━━━━━━━━━━━\u001b[0m\u001b[37m\u001b[0m \u001b[1m0s\u001b[0m 1ms/step - attrition_output_accuracy: 0.8646 - attrition_output_loss: 0.3236 - department_output_accuracy: 0.6780 - department_output_loss: 0.7504 - loss: 1.0743 - val_attrition_output_accuracy: 0.8507 - val_attrition_output_loss: 0.4277 - val_department_output_accuracy: 0.6154 - val_department_output_loss: 0.8360 - val_loss: 1.2639\n",
            "Epoch 21/100\n",
            "\u001b[1m28/28\u001b[0m \u001b[32m━━━━━━━━━━━━━━━━━━━━\u001b[0m\u001b[37m\u001b[0m \u001b[1m0s\u001b[0m 1ms/step - attrition_output_accuracy: 0.8734 - attrition_output_loss: 0.3151 - department_output_accuracy: 0.6481 - department_output_loss: 0.7772 - loss: 1.0918 - val_attrition_output_accuracy: 0.8281 - val_attrition_output_loss: 0.4377 - val_department_output_accuracy: 0.6244 - val_department_output_loss: 0.8626 - val_loss: 1.3009\n",
            "Epoch 22/100\n",
            "\u001b[1m28/28\u001b[0m \u001b[32m━━━━━━━━━━━━━━━━━━━━\u001b[0m\u001b[37m\u001b[0m \u001b[1m0s\u001b[0m 1ms/step - attrition_output_accuracy: 0.8695 - attrition_output_loss: 0.3141 - department_output_accuracy: 0.6668 - department_output_loss: 0.7713 - loss: 1.0857 - val_attrition_output_accuracy: 0.8552 - val_attrition_output_loss: 0.4517 - val_department_output_accuracy: 0.6335 - val_department_output_loss: 0.8398 - val_loss: 1.2916\n",
            "Epoch 23/100\n",
            "\u001b[1m28/28\u001b[0m \u001b[32m━━━━━━━━━━━━━━━━━━━━\u001b[0m\u001b[37m\u001b[0m \u001b[1m0s\u001b[0m 1ms/step - attrition_output_accuracy: 0.8575 - attrition_output_loss: 0.3530 - department_output_accuracy: 0.6469 - department_output_loss: 0.7626 - loss: 1.1156 - val_attrition_output_accuracy: 0.8416 - val_attrition_output_loss: 0.4287 - val_department_output_accuracy: 0.6290 - val_department_output_loss: 0.8326 - val_loss: 1.2619\n",
            "Epoch 24/100\n",
            "\u001b[1m28/28\u001b[0m \u001b[32m━━━━━━━━━━━━━━━━━━━━\u001b[0m\u001b[37m\u001b[0m \u001b[1m0s\u001b[0m 1ms/step - attrition_output_accuracy: 0.8791 - attrition_output_loss: 0.3188 - department_output_accuracy: 0.6680 - department_output_loss: 0.7833 - loss: 1.1021 - val_attrition_output_accuracy: 0.8145 - val_attrition_output_loss: 0.4405 - val_department_output_accuracy: 0.6335 - val_department_output_loss: 0.8461 - val_loss: 1.2872\n",
            "Epoch 25/100\n",
            "\u001b[1m28/28\u001b[0m \u001b[32m━━━━━━━━━━━━━━━━━━━━\u001b[0m\u001b[37m\u001b[0m \u001b[1m0s\u001b[0m 1ms/step - attrition_output_accuracy: 0.8740 - attrition_output_loss: 0.3279 - department_output_accuracy: 0.6871 - department_output_loss: 0.7387 - loss: 1.0665 - val_attrition_output_accuracy: 0.8281 - val_attrition_output_loss: 0.4545 - val_department_output_accuracy: 0.6335 - val_department_output_loss: 0.8366 - val_loss: 1.2910\n",
            "Epoch 26/100\n",
            "\u001b[1m28/28\u001b[0m \u001b[32m━━━━━━━━━━━━━━━━━━━━\u001b[0m\u001b[37m\u001b[0m \u001b[1m0s\u001b[0m 1ms/step - attrition_output_accuracy: 0.8605 - attrition_output_loss: 0.3416 - department_output_accuracy: 0.6570 - department_output_loss: 0.7479 - loss: 1.0896 - val_attrition_output_accuracy: 0.8235 - val_attrition_output_loss: 0.4361 - val_department_output_accuracy: 0.6290 - val_department_output_loss: 0.8609 - val_loss: 1.2972\n",
            "Epoch 27/100\n",
            "\u001b[1m28/28\u001b[0m \u001b[32m━━━━━━━━━━━━━━━━━━━━\u001b[0m\u001b[37m\u001b[0m \u001b[1m0s\u001b[0m 1ms/step - attrition_output_accuracy: 0.8762 - attrition_output_loss: 0.3152 - department_output_accuracy: 0.6769 - department_output_loss: 0.7468 - loss: 1.0620 - val_attrition_output_accuracy: 0.8371 - val_attrition_output_loss: 0.4465 - val_department_output_accuracy: 0.6154 - val_department_output_loss: 0.8356 - val_loss: 1.2832\n",
            "Epoch 28/100\n",
            "\u001b[1m28/28\u001b[0m \u001b[32m━━━━━━━━━━━━━━━━━━━━\u001b[0m\u001b[37m\u001b[0m \u001b[1m0s\u001b[0m 1ms/step - attrition_output_accuracy: 0.8824 - attrition_output_loss: 0.2850 - department_output_accuracy: 0.6959 - department_output_loss: 0.7421 - loss: 1.0273 - val_attrition_output_accuracy: 0.8462 - val_attrition_output_loss: 0.4387 - val_department_output_accuracy: 0.6244 - val_department_output_loss: 0.8420 - val_loss: 1.2814\n",
            "Epoch 29/100\n",
            "\u001b[1m28/28\u001b[0m \u001b[32m━━━━━━━━━━━━━━━━━━━━\u001b[0m\u001b[37m\u001b[0m \u001b[1m0s\u001b[0m 1ms/step - attrition_output_accuracy: 0.8731 - attrition_output_loss: 0.2944 - department_output_accuracy: 0.6717 - department_output_loss: 0.7425 - loss: 1.0370 - val_attrition_output_accuracy: 0.8416 - val_attrition_output_loss: 0.4314 - val_department_output_accuracy: 0.6335 - val_department_output_loss: 0.8413 - val_loss: 1.2734\n",
            "Epoch 30/100\n",
            "\u001b[1m28/28\u001b[0m \u001b[32m━━━━━━━━━━━━━━━━━━━━\u001b[0m\u001b[37m\u001b[0m \u001b[1m0s\u001b[0m 1ms/step - attrition_output_accuracy: 0.8701 - attrition_output_loss: 0.3101 - department_output_accuracy: 0.6688 - department_output_loss: 0.7645 - loss: 1.0746 - val_attrition_output_accuracy: 0.8371 - val_attrition_output_loss: 0.4467 - val_department_output_accuracy: 0.6290 - val_department_output_loss: 0.8513 - val_loss: 1.2992\n",
            "Epoch 31/100\n",
            "\u001b[1m28/28\u001b[0m \u001b[32m━━━━━━━━━━━━━━━━━━━━\u001b[0m\u001b[37m\u001b[0m \u001b[1m0s\u001b[0m 1ms/step - attrition_output_accuracy: 0.8730 - attrition_output_loss: 0.3312 - department_output_accuracy: 0.6733 - department_output_loss: 0.7372 - loss: 1.0686 - val_attrition_output_accuracy: 0.8416 - val_attrition_output_loss: 0.4315 - val_department_output_accuracy: 0.6380 - val_department_output_loss: 0.8460 - val_loss: 1.2787\n",
            "Epoch 32/100\n",
            "\u001b[1m28/28\u001b[0m \u001b[32m━━━━━━━━━━━━━━━━━━━━\u001b[0m\u001b[37m\u001b[0m \u001b[1m0s\u001b[0m 1ms/step - attrition_output_accuracy: 0.8880 - attrition_output_loss: 0.2947 - department_output_accuracy: 0.6720 - department_output_loss: 0.7499 - loss: 1.0445 - val_attrition_output_accuracy: 0.8009 - val_attrition_output_loss: 0.4456 - val_department_output_accuracy: 0.6290 - val_department_output_loss: 0.8710 - val_loss: 1.3174\n",
            "Epoch 33/100\n",
            "\u001b[1m28/28\u001b[0m \u001b[32m━━━━━━━━━━━━━━━━━━━━\u001b[0m\u001b[37m\u001b[0m \u001b[1m0s\u001b[0m 1ms/step - attrition_output_accuracy: 0.8964 - attrition_output_loss: 0.2844 - department_output_accuracy: 0.6756 - department_output_loss: 0.7314 - loss: 1.0157 - val_attrition_output_accuracy: 0.8100 - val_attrition_output_loss: 0.4238 - val_department_output_accuracy: 0.6335 - val_department_output_loss: 0.8441 - val_loss: 1.2687\n",
            "Epoch 34/100\n",
            "\u001b[1m28/28\u001b[0m \u001b[32m━━━━━━━━━━━━━━━━━━━━\u001b[0m\u001b[37m\u001b[0m \u001b[1m0s\u001b[0m 1ms/step - attrition_output_accuracy: 0.8728 - attrition_output_loss: 0.3250 - department_output_accuracy: 0.6621 - department_output_loss: 0.7401 - loss: 1.0654 - val_attrition_output_accuracy: 0.8054 - val_attrition_output_loss: 0.4455 - val_department_output_accuracy: 0.6335 - val_department_output_loss: 0.8447 - val_loss: 1.2905\n",
            "Epoch 35/100\n",
            "\u001b[1m28/28\u001b[0m \u001b[32m━━━━━━━━━━━━━━━━━━━━\u001b[0m\u001b[37m\u001b[0m \u001b[1m0s\u001b[0m 1ms/step - attrition_output_accuracy: 0.8851 - attrition_output_loss: 0.2917 - department_output_accuracy: 0.6770 - department_output_loss: 0.7386 - loss: 1.0298 - val_attrition_output_accuracy: 0.8371 - val_attrition_output_loss: 0.4430 - val_department_output_accuracy: 0.6290 - val_department_output_loss: 0.8465 - val_loss: 1.2909\n",
            "Epoch 36/100\n",
            "\u001b[1m28/28\u001b[0m \u001b[32m━━━━━━━━━━━━━━━━━━━━\u001b[0m\u001b[37m\u001b[0m \u001b[1m0s\u001b[0m 1ms/step - attrition_output_accuracy: 0.8964 - attrition_output_loss: 0.2939 - department_output_accuracy: 0.6756 - department_output_loss: 0.7275 - loss: 1.0217 - val_attrition_output_accuracy: 0.8235 - val_attrition_output_loss: 0.4329 - val_department_output_accuracy: 0.6199 - val_department_output_loss: 0.8521 - val_loss: 1.2857\n",
            "Epoch 37/100\n",
            "\u001b[1m28/28\u001b[0m \u001b[32m━━━━━━━━━━━━━━━━━━━━\u001b[0m\u001b[37m\u001b[0m \u001b[1m0s\u001b[0m 1ms/step - attrition_output_accuracy: 0.8819 - attrition_output_loss: 0.3000 - department_output_accuracy: 0.6655 - department_output_loss: 0.7355 - loss: 1.0356 - val_attrition_output_accuracy: 0.8054 - val_attrition_output_loss: 0.4349 - val_department_output_accuracy: 0.5928 - val_department_output_loss: 0.8758 - val_loss: 1.3116\n",
            "Epoch 38/100\n",
            "\u001b[1m28/28\u001b[0m \u001b[32m━━━━━━━━━━━━━━━━━━━━\u001b[0m\u001b[37m\u001b[0m \u001b[1m0s\u001b[0m 1ms/step - attrition_output_accuracy: 0.8728 - attrition_output_loss: 0.3300 - department_output_accuracy: 0.6699 - department_output_loss: 0.7504 - loss: 1.0806 - val_attrition_output_accuracy: 0.8100 - val_attrition_output_loss: 0.4535 - val_department_output_accuracy: 0.6380 - val_department_output_loss: 0.8520 - val_loss: 1.3061\n",
            "Epoch 39/100\n",
            "\u001b[1m28/28\u001b[0m \u001b[32m━━━━━━━━━━━━━━━━━━━━\u001b[0m\u001b[37m\u001b[0m \u001b[1m0s\u001b[0m 1ms/step - attrition_output_accuracy: 0.8906 - attrition_output_loss: 0.3057 - department_output_accuracy: 0.6729 - department_output_loss: 0.7370 - loss: 1.0426 - val_attrition_output_accuracy: 0.8190 - val_attrition_output_loss: 0.4533 - val_department_output_accuracy: 0.6199 - val_department_output_loss: 0.8569 - val_loss: 1.3108\n",
            "Epoch 40/100\n",
            "\u001b[1m28/28\u001b[0m \u001b[32m━━━━━━━━━━━━━━━━━━━━\u001b[0m\u001b[37m\u001b[0m \u001b[1m0s\u001b[0m 1ms/step - attrition_output_accuracy: 0.8960 - attrition_output_loss: 0.2789 - department_output_accuracy: 0.6564 - department_output_loss: 0.7374 - loss: 1.0164 - val_attrition_output_accuracy: 0.8009 - val_attrition_output_loss: 0.4360 - val_department_output_accuracy: 0.6290 - val_department_output_loss: 0.8575 - val_loss: 1.2944\n",
            "Epoch 41/100\n",
            "\u001b[1m28/28\u001b[0m \u001b[32m━━━━━━━━━━━━━━━━━━━━\u001b[0m\u001b[37m\u001b[0m \u001b[1m0s\u001b[0m 1ms/step - attrition_output_accuracy: 0.8929 - attrition_output_loss: 0.3015 - department_output_accuracy: 0.6703 - department_output_loss: 0.7415 - loss: 1.0431 - val_attrition_output_accuracy: 0.8371 - val_attrition_output_loss: 0.4707 - val_department_output_accuracy: 0.6380 - val_department_output_loss: 0.8674 - val_loss: 1.3394\n",
            "Epoch 42/100\n",
            "\u001b[1m28/28\u001b[0m \u001b[32m━━━━━━━━━━━━━━━━━━━━\u001b[0m\u001b[37m\u001b[0m \u001b[1m0s\u001b[0m 1ms/step - attrition_output_accuracy: 0.8659 - attrition_output_loss: 0.3399 - department_output_accuracy: 0.6537 - department_output_loss: 0.7806 - loss: 1.1205 - val_attrition_output_accuracy: 0.8100 - val_attrition_output_loss: 0.4133 - val_department_output_accuracy: 0.6290 - val_department_output_loss: 0.8803 - val_loss: 1.2950\n",
            "Epoch 43/100\n",
            "\u001b[1m28/28\u001b[0m \u001b[32m━━━━━━━━━━━━━━━━━━━━\u001b[0m\u001b[37m\u001b[0m \u001b[1m0s\u001b[0m 1ms/step - attrition_output_accuracy: 0.8947 - attrition_output_loss: 0.2943 - department_output_accuracy: 0.6642 - department_output_loss: 0.7968 - loss: 1.0914 - val_attrition_output_accuracy: 0.8054 - val_attrition_output_loss: 0.4595 - val_department_output_accuracy: 0.6244 - val_department_output_loss: 0.8902 - val_loss: 1.3506\n",
            "Epoch 44/100\n",
            "\u001b[1m28/28\u001b[0m \u001b[32m━━━━━━━━━━━━━━━━━━━━\u001b[0m\u001b[37m\u001b[0m \u001b[1m0s\u001b[0m 1ms/step - attrition_output_accuracy: 0.8996 - attrition_output_loss: 0.3174 - department_output_accuracy: 0.6794 - department_output_loss: 0.7046 - loss: 1.0216 - val_attrition_output_accuracy: 0.8281 - val_attrition_output_loss: 0.4597 - val_department_output_accuracy: 0.6199 - val_department_output_loss: 0.8668 - val_loss: 1.3269\n",
            "Epoch 45/100\n",
            "\u001b[1m28/28\u001b[0m \u001b[32m━━━━━━━━━━━━━━━━━━━━\u001b[0m\u001b[37m\u001b[0m \u001b[1m0s\u001b[0m 1ms/step - attrition_output_accuracy: 0.8771 - attrition_output_loss: 0.3019 - department_output_accuracy: 0.6670 - department_output_loss: 0.7430 - loss: 1.0451 - val_attrition_output_accuracy: 0.8281 - val_attrition_output_loss: 0.4285 - val_department_output_accuracy: 0.6109 - val_department_output_loss: 0.8745 - val_loss: 1.3044\n",
            "Epoch 46/100\n",
            "\u001b[1m28/28\u001b[0m \u001b[32m━━━━━━━━━━━━━━━━━━━━\u001b[0m\u001b[37m\u001b[0m \u001b[1m0s\u001b[0m 1ms/step - attrition_output_accuracy: 0.8911 - attrition_output_loss: 0.3041 - department_output_accuracy: 0.6878 - department_output_loss: 0.6904 - loss: 0.9946 - val_attrition_output_accuracy: 0.8100 - val_attrition_output_loss: 0.4470 - val_department_output_accuracy: 0.6244 - val_department_output_loss: 0.8632 - val_loss: 1.3112\n",
            "Epoch 47/100\n",
            "\u001b[1m28/28\u001b[0m \u001b[32m━━━━━━━━━━━━━━━━━━━━\u001b[0m\u001b[37m\u001b[0m \u001b[1m0s\u001b[0m 1ms/step - attrition_output_accuracy: 0.8937 - attrition_output_loss: 0.3055 - department_output_accuracy: 0.6646 - department_output_loss: 0.7324 - loss: 1.0378 - val_attrition_output_accuracy: 0.8462 - val_attrition_output_loss: 0.4588 - val_department_output_accuracy: 0.6335 - val_department_output_loss: 0.8773 - val_loss: 1.3372\n",
            "Epoch 48/100\n",
            "\u001b[1m28/28\u001b[0m \u001b[32m━━━━━━━━━━━━━━━━━━━━\u001b[0m\u001b[37m\u001b[0m \u001b[1m0s\u001b[0m 1ms/step - attrition_output_accuracy: 0.8693 - attrition_output_loss: 0.3048 - department_output_accuracy: 0.6831 - department_output_loss: 0.7277 - loss: 1.0324 - val_attrition_output_accuracy: 0.8100 - val_attrition_output_loss: 0.4505 - val_department_output_accuracy: 0.6154 - val_department_output_loss: 0.8759 - val_loss: 1.3275\n",
            "Epoch 49/100\n",
            "\u001b[1m28/28\u001b[0m \u001b[32m━━━━━━━━━━━━━━━━━━━━\u001b[0m\u001b[37m\u001b[0m \u001b[1m0s\u001b[0m 1ms/step - attrition_output_accuracy: 0.8879 - attrition_output_loss: 0.3099 - department_output_accuracy: 0.6740 - department_output_loss: 0.7363 - loss: 1.0460 - val_attrition_output_accuracy: 0.8190 - val_attrition_output_loss: 0.4381 - val_department_output_accuracy: 0.6290 - val_department_output_loss: 0.8850 - val_loss: 1.3239\n",
            "Epoch 50/100\n",
            "\u001b[1m28/28\u001b[0m \u001b[32m━━━━━━━━━━━━━━━━━━━━\u001b[0m\u001b[37m\u001b[0m \u001b[1m0s\u001b[0m 1ms/step - attrition_output_accuracy: 0.9069 - attrition_output_loss: 0.2814 - department_output_accuracy: 0.6914 - department_output_loss: 0.7035 - loss: 0.9849 - val_attrition_output_accuracy: 0.7964 - val_attrition_output_loss: 0.4373 - val_department_output_accuracy: 0.6199 - val_department_output_loss: 0.8799 - val_loss: 1.3183\n",
            "Epoch 51/100\n",
            "\u001b[1m28/28\u001b[0m \u001b[32m━━━━━━━━━━━━━━━━━━━━\u001b[0m\u001b[37m\u001b[0m \u001b[1m0s\u001b[0m 1ms/step - attrition_output_accuracy: 0.9041 - attrition_output_loss: 0.2978 - department_output_accuracy: 0.6818 - department_output_loss: 0.7210 - loss: 1.0188 - val_attrition_output_accuracy: 0.8190 - val_attrition_output_loss: 0.4438 - val_department_output_accuracy: 0.6244 - val_department_output_loss: 0.8765 - val_loss: 1.3216\n",
            "Epoch 52/100\n",
            "\u001b[1m28/28\u001b[0m \u001b[32m━━━━━━━━━━━━━━━━━━━━\u001b[0m\u001b[37m\u001b[0m \u001b[1m0s\u001b[0m 1ms/step - attrition_output_accuracy: 0.9027 - attrition_output_loss: 0.2851 - department_output_accuracy: 0.6974 - department_output_loss: 0.7012 - loss: 0.9864 - val_attrition_output_accuracy: 0.7964 - val_attrition_output_loss: 0.4402 - val_department_output_accuracy: 0.6290 - val_department_output_loss: 0.8778 - val_loss: 1.3198\n",
            "Epoch 53/100\n",
            "\u001b[1m28/28\u001b[0m \u001b[32m━━━━━━━━━━━━━━━━━━━━\u001b[0m\u001b[37m\u001b[0m \u001b[1m0s\u001b[0m 1ms/step - attrition_output_accuracy: 0.8937 - attrition_output_loss: 0.3000 - department_output_accuracy: 0.6629 - department_output_loss: 0.7322 - loss: 1.0319 - val_attrition_output_accuracy: 0.8326 - val_attrition_output_loss: 0.4335 - val_department_output_accuracy: 0.6244 - val_department_output_loss: 0.8919 - val_loss: 1.3269\n",
            "Epoch 54/100\n",
            "\u001b[1m28/28\u001b[0m \u001b[32m━━━━━━━━━━━━━━━━━━━━\u001b[0m\u001b[37m\u001b[0m \u001b[1m0s\u001b[0m 1ms/step - attrition_output_accuracy: 0.8877 - attrition_output_loss: 0.2860 - department_output_accuracy: 0.6822 - department_output_loss: 0.7111 - loss: 0.9972 - val_attrition_output_accuracy: 0.8054 - val_attrition_output_loss: 0.4300 - val_department_output_accuracy: 0.6290 - val_department_output_loss: 0.8876 - val_loss: 1.3190\n",
            "Epoch 55/100\n",
            "\u001b[1m28/28\u001b[0m \u001b[32m━━━━━━━━━━━━━━━━━━━━\u001b[0m\u001b[37m\u001b[0m \u001b[1m0s\u001b[0m 1ms/step - attrition_output_accuracy: 0.9002 - attrition_output_loss: 0.2667 - department_output_accuracy: 0.6760 - department_output_loss: 0.6873 - loss: 0.9540 - val_attrition_output_accuracy: 0.8235 - val_attrition_output_loss: 0.4509 - val_department_output_accuracy: 0.6290 - val_department_output_loss: 0.9125 - val_loss: 1.3643\n",
            "Epoch 56/100\n",
            "\u001b[1m28/28\u001b[0m \u001b[32m━━━━━━━━━━━━━━━━━━━━\u001b[0m\u001b[37m\u001b[0m \u001b[1m0s\u001b[0m 1ms/step - attrition_output_accuracy: 0.9031 - attrition_output_loss: 0.2547 - department_output_accuracy: 0.6791 - department_output_loss: 0.7094 - loss: 0.9643 - val_attrition_output_accuracy: 0.8235 - val_attrition_output_loss: 0.4686 - val_department_output_accuracy: 0.6290 - val_department_output_loss: 0.8849 - val_loss: 1.3546\n",
            "Epoch 57/100\n",
            "\u001b[1m28/28\u001b[0m \u001b[32m━━━━━━━━━━━━━━━━━━━━\u001b[0m\u001b[37m\u001b[0m \u001b[1m0s\u001b[0m 2ms/step - attrition_output_accuracy: 0.9045 - attrition_output_loss: 0.2632 - department_output_accuracy: 0.6761 - department_output_loss: 0.7057 - loss: 0.9686 - val_attrition_output_accuracy: 0.7964 - val_attrition_output_loss: 0.4297 - val_department_output_accuracy: 0.6154 - val_department_output_loss: 0.8968 - val_loss: 1.3284\n",
            "Epoch 58/100\n",
            "\u001b[1m28/28\u001b[0m \u001b[32m━━━━━━━━━━━━━━━━━━━━\u001b[0m\u001b[37m\u001b[0m \u001b[1m0s\u001b[0m 1ms/step - attrition_output_accuracy: 0.8919 - attrition_output_loss: 0.2959 - department_output_accuracy: 0.6857 - department_output_loss: 0.7054 - loss: 1.0011 - val_attrition_output_accuracy: 0.7964 - val_attrition_output_loss: 0.4638 - val_department_output_accuracy: 0.6154 - val_department_output_loss: 0.9009 - val_loss: 1.3663\n",
            "Epoch 59/100\n",
            "\u001b[1m28/28\u001b[0m \u001b[32m━━━━━━━━━━━━━━━━━━━━\u001b[0m\u001b[37m\u001b[0m \u001b[1m0s\u001b[0m 1ms/step - attrition_output_accuracy: 0.8851 - attrition_output_loss: 0.3004 - department_output_accuracy: 0.6765 - department_output_loss: 0.7067 - loss: 1.0073 - val_attrition_output_accuracy: 0.8054 - val_attrition_output_loss: 0.4420 - val_department_output_accuracy: 0.6199 - val_department_output_loss: 0.9189 - val_loss: 1.3625\n",
            "Epoch 60/100\n",
            "\u001b[1m28/28\u001b[0m \u001b[32m━━━━━━━━━━━━━━━━━━━━\u001b[0m\u001b[37m\u001b[0m \u001b[1m0s\u001b[0m 1ms/step - attrition_output_accuracy: 0.9031 - attrition_output_loss: 0.2655 - department_output_accuracy: 0.6688 - department_output_loss: 0.7316 - loss: 0.9972 - val_attrition_output_accuracy: 0.8190 - val_attrition_output_loss: 0.4490 - val_department_output_accuracy: 0.6199 - val_department_output_loss: 0.9048 - val_loss: 1.3557\n",
            "Epoch 61/100\n",
            "\u001b[1m28/28\u001b[0m \u001b[32m━━━━━━━━━━━━━━━━━━━━\u001b[0m\u001b[37m\u001b[0m \u001b[1m0s\u001b[0m 1ms/step - attrition_output_accuracy: 0.9008 - attrition_output_loss: 0.2740 - department_output_accuracy: 0.6630 - department_output_loss: 0.7287 - loss: 1.0024 - val_attrition_output_accuracy: 0.8054 - val_attrition_output_loss: 0.4388 - val_department_output_accuracy: 0.6199 - val_department_output_loss: 0.9119 - val_loss: 1.3527\n",
            "Epoch 62/100\n",
            "\u001b[1m28/28\u001b[0m \u001b[32m━━━━━━━━━━━━━━━━━━━━\u001b[0m\u001b[37m\u001b[0m \u001b[1m0s\u001b[0m 1ms/step - attrition_output_accuracy: 0.9098 - attrition_output_loss: 0.2591 - department_output_accuracy: 0.6957 - department_output_loss: 0.6880 - loss: 0.9471 - val_attrition_output_accuracy: 0.8281 - val_attrition_output_loss: 0.4738 - val_department_output_accuracy: 0.6290 - val_department_output_loss: 0.9286 - val_loss: 1.4030\n",
            "Epoch 63/100\n",
            "\u001b[1m28/28\u001b[0m \u001b[32m━━━━━━━━━━━━━━━━━━━━\u001b[0m\u001b[37m\u001b[0m \u001b[1m0s\u001b[0m 1ms/step - attrition_output_accuracy: 0.8895 - attrition_output_loss: 0.2925 - department_output_accuracy: 0.6920 - department_output_loss: 0.6830 - loss: 0.9751 - val_attrition_output_accuracy: 0.8054 - val_attrition_output_loss: 0.4565 - val_department_output_accuracy: 0.6154 - val_department_output_loss: 0.9231 - val_loss: 1.3813\n",
            "Epoch 64/100\n",
            "\u001b[1m28/28\u001b[0m \u001b[32m━━━━━━━━━━━━━━━━━━━━\u001b[0m\u001b[37m\u001b[0m \u001b[1m0s\u001b[0m 1ms/step - attrition_output_accuracy: 0.8899 - attrition_output_loss: 0.2926 - department_output_accuracy: 0.6848 - department_output_loss: 0.6723 - loss: 0.9652 - val_attrition_output_accuracy: 0.8371 - val_attrition_output_loss: 0.4589 - val_department_output_accuracy: 0.6109 - val_department_output_loss: 0.9190 - val_loss: 1.3796\n",
            "Epoch 65/100\n",
            "\u001b[1m28/28\u001b[0m \u001b[32m━━━━━━━━━━━━━━━━━━━━\u001b[0m\u001b[37m\u001b[0m \u001b[1m0s\u001b[0m 1ms/step - attrition_output_accuracy: 0.8834 - attrition_output_loss: 0.2882 - department_output_accuracy: 0.6824 - department_output_loss: 0.6987 - loss: 0.9870 - val_attrition_output_accuracy: 0.7964 - val_attrition_output_loss: 0.4471 - val_department_output_accuracy: 0.6199 - val_department_output_loss: 0.9278 - val_loss: 1.3766\n",
            "Epoch 66/100\n",
            "\u001b[1m28/28\u001b[0m \u001b[32m━━━━━━━━━━━━━━━━━━━━\u001b[0m\u001b[37m\u001b[0m \u001b[1m0s\u001b[0m 1ms/step - attrition_output_accuracy: 0.9033 - attrition_output_loss: 0.2674 - department_output_accuracy: 0.6881 - department_output_loss: 0.6948 - loss: 0.9622 - val_attrition_output_accuracy: 0.7919 - val_attrition_output_loss: 0.4342 - val_department_output_accuracy: 0.6063 - val_department_output_loss: 0.9291 - val_loss: 1.3659\n",
            "Epoch 67/100\n",
            "\u001b[1m28/28\u001b[0m \u001b[32m━━━━━━━━━━━━━━━━━━━━\u001b[0m\u001b[37m\u001b[0m \u001b[1m0s\u001b[0m 1ms/step - attrition_output_accuracy: 0.9111 - attrition_output_loss: 0.2613 - department_output_accuracy: 0.6758 - department_output_loss: 0.6913 - loss: 0.9527 - val_attrition_output_accuracy: 0.8190 - val_attrition_output_loss: 0.4207 - val_department_output_accuracy: 0.6109 - val_department_output_loss: 0.9583 - val_loss: 1.3817\n",
            "Epoch 68/100\n",
            "\u001b[1m28/28\u001b[0m \u001b[32m━━━━━━━━━━━━━━━━━━━━\u001b[0m\u001b[37m\u001b[0m \u001b[1m0s\u001b[0m 1ms/step - attrition_output_accuracy: 0.8989 - attrition_output_loss: 0.2673 - department_output_accuracy: 0.6806 - department_output_loss: 0.6894 - loss: 0.9569 - val_attrition_output_accuracy: 0.8009 - val_attrition_output_loss: 0.4554 - val_department_output_accuracy: 0.5928 - val_department_output_loss: 0.9511 - val_loss: 1.4081\n",
            "Epoch 69/100\n",
            "\u001b[1m28/28\u001b[0m \u001b[32m━━━━━━━━━━━━━━━━━━━━\u001b[0m\u001b[37m\u001b[0m \u001b[1m0s\u001b[0m 1ms/step - attrition_output_accuracy: 0.9040 - attrition_output_loss: 0.2720 - department_output_accuracy: 0.6846 - department_output_loss: 0.6940 - loss: 0.9658 - val_attrition_output_accuracy: 0.8054 - val_attrition_output_loss: 0.4797 - val_department_output_accuracy: 0.5973 - val_department_output_loss: 0.9472 - val_loss: 1.4283\n",
            "Epoch 70/100\n",
            "\u001b[1m28/28\u001b[0m \u001b[32m━━━━━━━━━━━━━━━━━━━━\u001b[0m\u001b[37m\u001b[0m \u001b[1m0s\u001b[0m 1ms/step - attrition_output_accuracy: 0.9054 - attrition_output_loss: 0.2581 - department_output_accuracy: 0.6757 - department_output_loss: 0.7087 - loss: 0.9667 - val_attrition_output_accuracy: 0.8190 - val_attrition_output_loss: 0.4545 - val_department_output_accuracy: 0.6154 - val_department_output_loss: 0.9457 - val_loss: 1.4024\n",
            "Epoch 71/100\n",
            "\u001b[1m28/28\u001b[0m \u001b[32m━━━━━━━━━━━━━━━━━━━━\u001b[0m\u001b[37m\u001b[0m \u001b[1m0s\u001b[0m 1ms/step - attrition_output_accuracy: 0.9071 - attrition_output_loss: 0.2582 - department_output_accuracy: 0.7108 - department_output_loss: 0.6921 - loss: 0.9507 - val_attrition_output_accuracy: 0.8145 - val_attrition_output_loss: 0.4352 - val_department_output_accuracy: 0.6199 - val_department_output_loss: 0.9519 - val_loss: 1.3896\n",
            "Epoch 72/100\n",
            "\u001b[1m28/28\u001b[0m \u001b[32m━━━━━━━━━━━━━━━━━━━━\u001b[0m\u001b[37m\u001b[0m \u001b[1m0s\u001b[0m 1ms/step - attrition_output_accuracy: 0.9204 - attrition_output_loss: 0.2413 - department_output_accuracy: 0.6699 - department_output_loss: 0.7115 - loss: 0.9528 - val_attrition_output_accuracy: 0.7919 - val_attrition_output_loss: 0.4860 - val_department_output_accuracy: 0.6290 - val_department_output_loss: 0.9830 - val_loss: 1.4700\n",
            "Epoch 73/100\n",
            "\u001b[1m28/28\u001b[0m \u001b[32m━━━━━━━━━━━━━━━━━━━━\u001b[0m\u001b[37m\u001b[0m \u001b[1m0s\u001b[0m 1ms/step - attrition_output_accuracy: 0.8955 - attrition_output_loss: 0.2723 - department_output_accuracy: 0.6955 - department_output_loss: 0.6462 - loss: 0.9183 - val_attrition_output_accuracy: 0.8281 - val_attrition_output_loss: 0.4736 - val_department_output_accuracy: 0.6154 - val_department_output_loss: 0.9425 - val_loss: 1.4168\n",
            "Epoch 74/100\n",
            "\u001b[1m28/28\u001b[0m \u001b[32m━━━━━━━━━━━━━━━━━━━━\u001b[0m\u001b[37m\u001b[0m \u001b[1m0s\u001b[0m 1ms/step - attrition_output_accuracy: 0.8822 - attrition_output_loss: 0.2634 - department_output_accuracy: 0.7026 - department_output_loss: 0.6782 - loss: 0.9418 - val_attrition_output_accuracy: 0.7919 - val_attrition_output_loss: 0.4614 - val_department_output_accuracy: 0.5973 - val_department_output_loss: 0.9686 - val_loss: 1.4322\n",
            "Epoch 75/100\n",
            "\u001b[1m28/28\u001b[0m \u001b[32m━━━━━━━━━━━━━━━━━━━━\u001b[0m\u001b[37m\u001b[0m \u001b[1m0s\u001b[0m 1ms/step - attrition_output_accuracy: 0.9055 - attrition_output_loss: 0.2664 - department_output_accuracy: 0.6924 - department_output_loss: 0.6717 - loss: 0.9382 - val_attrition_output_accuracy: 0.8100 - val_attrition_output_loss: 0.4650 - val_department_output_accuracy: 0.6244 - val_department_output_loss: 0.9780 - val_loss: 1.4439\n",
            "Epoch 76/100\n",
            "\u001b[1m28/28\u001b[0m \u001b[32m━━━━━━━━━━━━━━━━━━━━\u001b[0m\u001b[37m\u001b[0m \u001b[1m0s\u001b[0m 1ms/step - attrition_output_accuracy: 0.8975 - attrition_output_loss: 0.2714 - department_output_accuracy: 0.7070 - department_output_loss: 0.6795 - loss: 0.9510 - val_attrition_output_accuracy: 0.8054 - val_attrition_output_loss: 0.4472 - val_department_output_accuracy: 0.6109 - val_department_output_loss: 0.9763 - val_loss: 1.4257\n",
            "Epoch 77/100\n",
            "\u001b[1m28/28\u001b[0m \u001b[32m━━━━━━━━━━━━━━━━━━━━\u001b[0m\u001b[37m\u001b[0m \u001b[1m0s\u001b[0m 1ms/step - attrition_output_accuracy: 0.9012 - attrition_output_loss: 0.2722 - department_output_accuracy: 0.6772 - department_output_loss: 0.7077 - loss: 0.9802 - val_attrition_output_accuracy: 0.8054 - val_attrition_output_loss: 0.4764 - val_department_output_accuracy: 0.5973 - val_department_output_loss: 0.9968 - val_loss: 1.4743\n",
            "Epoch 78/100\n",
            "\u001b[1m28/28\u001b[0m \u001b[32m━━━━━━━━━━━━━━━━━━━━\u001b[0m\u001b[37m\u001b[0m \u001b[1m0s\u001b[0m 2ms/step - attrition_output_accuracy: 0.9079 - attrition_output_loss: 0.2586 - department_output_accuracy: 0.6866 - department_output_loss: 0.6715 - loss: 0.9300 - val_attrition_output_accuracy: 0.8009 - val_attrition_output_loss: 0.4917 - val_department_output_accuracy: 0.5882 - val_department_output_loss: 1.0033 - val_loss: 1.4969\n",
            "Epoch 79/100\n",
            "\u001b[1m28/28\u001b[0m \u001b[32m━━━━━━━━━━━━━━━━━━━━\u001b[0m\u001b[37m\u001b[0m \u001b[1m0s\u001b[0m 1ms/step - attrition_output_accuracy: 0.9007 - attrition_output_loss: 0.2658 - department_output_accuracy: 0.7065 - department_output_loss: 0.6392 - loss: 0.9049 - val_attrition_output_accuracy: 0.7919 - val_attrition_output_loss: 0.4402 - val_department_output_accuracy: 0.5882 - val_department_output_loss: 0.9837 - val_loss: 1.4269\n",
            "Epoch 80/100\n",
            "\u001b[1m28/28\u001b[0m \u001b[32m━━━━━━━━━━━━━━━━━━━━\u001b[0m\u001b[37m\u001b[0m \u001b[1m0s\u001b[0m 1ms/step - attrition_output_accuracy: 0.9031 - attrition_output_loss: 0.2673 - department_output_accuracy: 0.6954 - department_output_loss: 0.6824 - loss: 0.9498 - val_attrition_output_accuracy: 0.8326 - val_attrition_output_loss: 0.5150 - val_department_output_accuracy: 0.6154 - val_department_output_loss: 0.9980 - val_loss: 1.5127\n",
            "Epoch 81/100\n",
            "\u001b[1m28/28\u001b[0m \u001b[32m━━━━━━━━━━━━━━━━━━━━\u001b[0m\u001b[37m\u001b[0m \u001b[1m0s\u001b[0m 1ms/step - attrition_output_accuracy: 0.8987 - attrition_output_loss: 0.2619 - department_output_accuracy: 0.6901 - department_output_loss: 0.6910 - loss: 0.9530 - val_attrition_output_accuracy: 0.7873 - val_attrition_output_loss: 0.4747 - val_department_output_accuracy: 0.5611 - val_department_output_loss: 1.0271 - val_loss: 1.5036\n",
            "Epoch 82/100\n",
            "\u001b[1m28/28\u001b[0m \u001b[32m━━━━━━━━━━━━━━━━━━━━\u001b[0m\u001b[37m\u001b[0m \u001b[1m0s\u001b[0m 1ms/step - attrition_output_accuracy: 0.8978 - attrition_output_loss: 0.2701 - department_output_accuracy: 0.6974 - department_output_loss: 0.6772 - loss: 0.9471 - val_attrition_output_accuracy: 0.8281 - val_attrition_output_loss: 0.4564 - val_department_output_accuracy: 0.6154 - val_department_output_loss: 1.0029 - val_loss: 1.4605\n",
            "Epoch 83/100\n",
            "\u001b[1m28/28\u001b[0m \u001b[32m━━━━━━━━━━━━━━━━━━━━\u001b[0m\u001b[37m\u001b[0m \u001b[1m0s\u001b[0m 1ms/step - attrition_output_accuracy: 0.9031 - attrition_output_loss: 0.2664 - department_output_accuracy: 0.6924 - department_output_loss: 0.6465 - loss: 0.9132 - val_attrition_output_accuracy: 0.8235 - val_attrition_output_loss: 0.4910 - val_department_output_accuracy: 0.6063 - val_department_output_loss: 1.0300 - val_loss: 1.5228\n",
            "Epoch 84/100\n",
            "\u001b[1m28/28\u001b[0m \u001b[32m━━━━━━━━━━━━━━━━━━━━\u001b[0m\u001b[37m\u001b[0m \u001b[1m0s\u001b[0m 1ms/step - attrition_output_accuracy: 0.9065 - attrition_output_loss: 0.2543 - department_output_accuracy: 0.6956 - department_output_loss: 0.6608 - loss: 0.9148 - val_attrition_output_accuracy: 0.8100 - val_attrition_output_loss: 0.4715 - val_department_output_accuracy: 0.6199 - val_department_output_loss: 1.0044 - val_loss: 1.4781\n",
            "Epoch 85/100\n",
            "\u001b[1m28/28\u001b[0m \u001b[32m━━━━━━━━━━━━━━━━━━━━\u001b[0m\u001b[37m\u001b[0m \u001b[1m0s\u001b[0m 1ms/step - attrition_output_accuracy: 0.9287 - attrition_output_loss: 0.2086 - department_output_accuracy: 0.7332 - department_output_loss: 0.6270 - loss: 0.8349 - val_attrition_output_accuracy: 0.7919 - val_attrition_output_loss: 0.4645 - val_department_output_accuracy: 0.6154 - val_department_output_loss: 1.0382 - val_loss: 1.5052\n",
            "Epoch 86/100\n",
            "\u001b[1m28/28\u001b[0m \u001b[32m━━━━━━━━━━━━━━━━━━━━\u001b[0m\u001b[37m\u001b[0m \u001b[1m0s\u001b[0m 1ms/step - attrition_output_accuracy: 0.9054 - attrition_output_loss: 0.2525 - department_output_accuracy: 0.6656 - department_output_loss: 0.6894 - loss: 0.9421 - val_attrition_output_accuracy: 0.8145 - val_attrition_output_loss: 0.4942 - val_department_output_accuracy: 0.6244 - val_department_output_loss: 1.0843 - val_loss: 1.5809\n",
            "Epoch 87/100\n",
            "\u001b[1m28/28\u001b[0m \u001b[32m━━━━━━━━━━━━━━━━━━━━\u001b[0m\u001b[37m\u001b[0m \u001b[1m0s\u001b[0m 1ms/step - attrition_output_accuracy: 0.9150 - attrition_output_loss: 0.2386 - department_output_accuracy: 0.7184 - department_output_loss: 0.6444 - loss: 0.8829 - val_attrition_output_accuracy: 0.8009 - val_attrition_output_loss: 0.5036 - val_department_output_accuracy: 0.5837 - val_department_output_loss: 1.0400 - val_loss: 1.5452\n",
            "Epoch 88/100\n",
            "\u001b[1m28/28\u001b[0m \u001b[32m━━━━━━━━━━━━━━━━━━━━\u001b[0m\u001b[37m\u001b[0m \u001b[1m0s\u001b[0m 1ms/step - attrition_output_accuracy: 0.9085 - attrition_output_loss: 0.2464 - department_output_accuracy: 0.6937 - department_output_loss: 0.6788 - loss: 0.9254 - val_attrition_output_accuracy: 0.7964 - val_attrition_output_loss: 0.5160 - val_department_output_accuracy: 0.6199 - val_department_output_loss: 1.0399 - val_loss: 1.5573\n",
            "Epoch 89/100\n",
            "\u001b[1m28/28\u001b[0m \u001b[32m━━━━━━━━━━━━━━━━━━━━\u001b[0m\u001b[37m\u001b[0m \u001b[1m0s\u001b[0m 1ms/step - attrition_output_accuracy: 0.9119 - attrition_output_loss: 0.2247 - department_output_accuracy: 0.7079 - department_output_loss: 0.6477 - loss: 0.8723 - val_attrition_output_accuracy: 0.8054 - val_attrition_output_loss: 0.4660 - val_department_output_accuracy: 0.6199 - val_department_output_loss: 1.0483 - val_loss: 1.5162\n",
            "Epoch 90/100\n",
            "\u001b[1m28/28\u001b[0m \u001b[32m━━━━━━━━━━━━━━━━━━━━\u001b[0m\u001b[37m\u001b[0m \u001b[1m0s\u001b[0m 1ms/step - attrition_output_accuracy: 0.9173 - attrition_output_loss: 0.2256 - department_output_accuracy: 0.6904 - department_output_loss: 0.6667 - loss: 0.8922 - val_attrition_output_accuracy: 0.8145 - val_attrition_output_loss: 0.4563 - val_department_output_accuracy: 0.5611 - val_department_output_loss: 1.0329 - val_loss: 1.4917\n",
            "Epoch 91/100\n",
            "\u001b[1m28/28\u001b[0m \u001b[32m━━━━━━━━━━━━━━━━━━━━\u001b[0m\u001b[37m\u001b[0m \u001b[1m0s\u001b[0m 1ms/step - attrition_output_accuracy: 0.9274 - attrition_output_loss: 0.2203 - department_output_accuracy: 0.7050 - department_output_loss: 0.6503 - loss: 0.8706 - val_attrition_output_accuracy: 0.8145 - val_attrition_output_loss: 0.5246 - val_department_output_accuracy: 0.6154 - val_department_output_loss: 1.0655 - val_loss: 1.5904\n",
            "Epoch 92/100\n",
            "\u001b[1m28/28\u001b[0m \u001b[32m━━━━━━━━━━━━━━━━━━━━\u001b[0m\u001b[37m\u001b[0m \u001b[1m0s\u001b[0m 1ms/step - attrition_output_accuracy: 0.9124 - attrition_output_loss: 0.2473 - department_output_accuracy: 0.6986 - department_output_loss: 0.6289 - loss: 0.8763 - val_attrition_output_accuracy: 0.8235 - val_attrition_output_loss: 0.5199 - val_department_output_accuracy: 0.5611 - val_department_output_loss: 1.0886 - val_loss: 1.6107\n",
            "Epoch 93/100\n",
            "\u001b[1m28/28\u001b[0m \u001b[32m━━━━━━━━━━━━━━━━━━━━\u001b[0m\u001b[37m\u001b[0m \u001b[1m0s\u001b[0m 1ms/step - attrition_output_accuracy: 0.9097 - attrition_output_loss: 0.2447 - department_output_accuracy: 0.7349 - department_output_loss: 0.6105 - loss: 0.8551 - val_attrition_output_accuracy: 0.8009 - val_attrition_output_loss: 0.5089 - val_department_output_accuracy: 0.5068 - val_department_output_loss: 1.0943 - val_loss: 1.6074\n",
            "Epoch 94/100\n",
            "\u001b[1m28/28\u001b[0m \u001b[32m━━━━━━━━━━━━━━━━━━━━\u001b[0m\u001b[37m\u001b[0m \u001b[1m0s\u001b[0m 2ms/step - attrition_output_accuracy: 0.9013 - attrition_output_loss: 0.2539 - department_output_accuracy: 0.7264 - department_output_loss: 0.6502 - loss: 0.9042 - val_attrition_output_accuracy: 0.8235 - val_attrition_output_loss: 0.5145 - val_department_output_accuracy: 0.5566 - val_department_output_loss: 1.0798 - val_loss: 1.5960\n",
            "Epoch 95/100\n",
            "\u001b[1m28/28\u001b[0m \u001b[32m━━━━━━━━━━━━━━━━━━━━\u001b[0m\u001b[37m\u001b[0m \u001b[1m0s\u001b[0m 1ms/step - attrition_output_accuracy: 0.9032 - attrition_output_loss: 0.2375 - department_output_accuracy: 0.7077 - department_output_loss: 0.6267 - loss: 0.8639 - val_attrition_output_accuracy: 0.7964 - val_attrition_output_loss: 0.4969 - val_department_output_accuracy: 0.5566 - val_department_output_loss: 1.0732 - val_loss: 1.5719\n",
            "Epoch 96/100\n",
            "\u001b[1m28/28\u001b[0m \u001b[32m━━━━━━━━━━━━━━━━━━━━\u001b[0m\u001b[37m\u001b[0m \u001b[1m0s\u001b[0m 1ms/step - attrition_output_accuracy: 0.9183 - attrition_output_loss: 0.2358 - department_output_accuracy: 0.7049 - department_output_loss: 0.6425 - loss: 0.8785 - val_attrition_output_accuracy: 0.8100 - val_attrition_output_loss: 0.4670 - val_department_output_accuracy: 0.5520 - val_department_output_loss: 1.0529 - val_loss: 1.5218\n",
            "Epoch 97/100\n",
            "\u001b[1m28/28\u001b[0m \u001b[32m━━━━━━━━━━━━━━━━━━━━\u001b[0m\u001b[37m\u001b[0m \u001b[1m0s\u001b[0m 1ms/step - attrition_output_accuracy: 0.9350 - attrition_output_loss: 0.2102 - department_output_accuracy: 0.7037 - department_output_loss: 0.6496 - loss: 0.8599 - val_attrition_output_accuracy: 0.8190 - val_attrition_output_loss: 0.5031 - val_department_output_accuracy: 0.5928 - val_department_output_loss: 1.0919 - val_loss: 1.5962\n",
            "Epoch 98/100\n",
            "\u001b[1m28/28\u001b[0m \u001b[32m━━━━━━━━━━━━━━━━━━━━\u001b[0m\u001b[37m\u001b[0m \u001b[1m0s\u001b[0m 1ms/step - attrition_output_accuracy: 0.9100 - attrition_output_loss: 0.2508 - department_output_accuracy: 0.7108 - department_output_loss: 0.6102 - loss: 0.8608 - val_attrition_output_accuracy: 0.7557 - val_attrition_output_loss: 0.6361 - val_department_output_accuracy: 0.5882 - val_department_output_loss: 1.0768 - val_loss: 1.7134\n",
            "Epoch 99/100\n",
            "\u001b[1m28/28\u001b[0m \u001b[32m━━━━━━━━━━━━━━━━━━━━\u001b[0m\u001b[37m\u001b[0m \u001b[1m0s\u001b[0m 1ms/step - attrition_output_accuracy: 0.8957 - attrition_output_loss: 0.2657 - department_output_accuracy: 0.7204 - department_output_loss: 0.6331 - loss: 0.8986 - val_attrition_output_accuracy: 0.8145 - val_attrition_output_loss: 0.4749 - val_department_output_accuracy: 0.5837 - val_department_output_loss: 1.0872 - val_loss: 1.5636\n",
            "Epoch 100/100\n",
            "\u001b[1m28/28\u001b[0m \u001b[32m━━━━━━━━━━━━━━━━━━━━\u001b[0m\u001b[37m\u001b[0m \u001b[1m0s\u001b[0m 1ms/step - attrition_output_accuracy: 0.9163 - attrition_output_loss: 0.2196 - department_output_accuracy: 0.7058 - department_output_loss: 0.6467 - loss: 0.8664 - val_attrition_output_accuracy: 0.8190 - val_attrition_output_loss: 0.5082 - val_department_output_accuracy: 0.6063 - val_department_output_loss: 1.1419 - val_loss: 1.6518\n"
          ]
        },
        {
          "data": {
            "text/plain": [
              "<keras.src.callbacks.history.History at 0x308eae5a0>"
            ]
          },
          "execution_count": 68,
          "metadata": {},
          "output_type": "execute_result"
        }
      ],
      "source": [
        "# Train the model\n",
        "model.fit(\n",
        "    X_train,\n",
        "    {'department_output': y_department_train_enc, 'attrition_output': y_attrition_train_enc},\n",
        "    epochs=100,\n",
        "    batch_size=32,\n",
        "    validation_split=0.2\n",
        ")\n",
        "\n"
      ]
    },
    {
      "cell_type": "code",
      "execution_count": 69,
      "metadata": {
        "colab": {
          "base_uri": "https://localhost:8080/"
        },
        "id": "VsMoaQlgGc3U",
        "outputId": "1bd4e601-e964-4abc-ad83-aeecf6b696be"
      },
      "outputs": [
        {
          "name": "stdout",
          "output_type": "stream",
          "text": [
            "\u001b[1m12/12\u001b[0m \u001b[32m━━━━━━━━━━━━━━━━━━━━\u001b[0m\u001b[37m\u001b[0m \u001b[1m0s\u001b[0m 1ms/step - attrition_output_accuracy: 0.8040 - attrition_output_loss: 0.6272 - department_output_accuracy: 0.5958 - department_output_loss: 1.0165 - loss: 1.6497\n"
          ]
        },
        {
          "data": {
            "text/plain": [
              "[1.5283340215682983,\n",
              " 0.9424486756324768,\n",
              " 0.5467122793197632,\n",
              " 0.823369562625885,\n",
              " 0.6195651888847351]"
            ]
          },
          "execution_count": 69,
          "metadata": {},
          "output_type": "execute_result"
        }
      ],
      "source": [
        "# Evaluate the model with the testing data\n",
        "test_results = model.evaluate(X_test, {'department_output': y_department_test_enc, 'attrition_output': y_attrition_test_enc})\n",
        "test_results\n"
      ]
    },
    {
      "cell_type": "markdown",
      "metadata": {},
      "source": [
        "# Print the accuracy for both department and attrition\n",
        "Department Predictions Accuracy: 0.6122\n",
        "\n",
        "Attrition Predictions Accuracy: 0.7974\n",
        "\n",
        "\n"
      ]
    },
    {
      "cell_type": "markdown",
      "metadata": {
        "id": "eGSyfsZfWOQM"
      },
      "source": [
        "# Summary\n",
        "\n",
        "In the provided space below, briefly answer the following questions.\n",
        "\n",
        "1. Is accuracy the best metric to use on this data? Why or why not?\n",
        "\n",
        "2. What activation functions did you choose for your output layers, and why?\n",
        "\n",
        "3. Can you name a few ways that this model might be improved?"
      ]
    },
    {
      "cell_type": "markdown",
      "metadata": {
        "id": "pi9SLpFnWvbF"
      },
      "source": [
        "YOUR ANSWERS HERE\n",
        "\n",
        "1. Yes - there are other choices, such as precision, when minimizing false positives is a priority, and recall, when it is important to capure relevant cases, but neither of them seems well suited for this data. The data is not unbalanced, which makes it ideal for the accuracy metric. F1, which balances precision and recall, could be a good choice.\n",
        "\n",
        "2. Softmax for the department data and sigmoid for the attrition data. Sigmoid is used for binary clasification, such as whether an employee is likely or not to leave. Softmax is used for multiclass questions, such as predicting the department that best fits an employee.   \n",
        "\n",
        "3. Use of the F1 metric, which balances precision and recall, could be a good choice to try with this data. We could add additional column names to the X data. And it could be good to have more data."
      ]
    },
    {
      "cell_type": "markdown",
      "metadata": {
        "id": "wDoxGvAPAVC6"
      },
      "source": []
    }
  ],
  "metadata": {
    "colab": {
      "provenance": []
    },
    "kernelspec": {
      "display_name": "base",
      "language": "python",
      "name": "python3"
    },
    "language_info": {
      "codemirror_mode": {
        "name": "ipython",
        "version": 3
      },
      "file_extension": ".py",
      "mimetype": "text/x-python",
      "name": "python",
      "nbconvert_exporter": "python",
      "pygments_lexer": "ipython3",
      "version": "3.12.2"
    }
  },
  "nbformat": 4,
  "nbformat_minor": 0
}
